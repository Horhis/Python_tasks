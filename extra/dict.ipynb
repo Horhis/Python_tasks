{
 "cells": [
  {
   "cell_type": "code",
   "execution_count": 1,
   "id": "c5caf679-4d2e-43b8-8dd6-d51b764bc519",
   "metadata": {},
   "outputs": [],
   "source": [
    "a = {}"
   ]
  },
  {
   "cell_type": "code",
   "execution_count": 3,
   "id": "282230e1-87c1-4008-9385-ee25080bb6c8",
   "metadata": {},
   "outputs": [
    {
     "name": "stdout",
     "output_type": "stream",
     "text": [
      "<class 'dict'>\n"
     ]
    }
   ],
   "source": [
    "print(type(a))"
   ]
  },
  {
   "cell_type": "markdown",
   "id": "5010232d-5d22-46d1-a111-39a2e49b1827",
   "metadata": {},
   "source": [
    "a = {key:value} # структура словарей - это ключ и значение"
   ]
  },
  {
   "cell_type": "code",
   "execution_count": null,
   "id": "b00d601c-cbc8-41b1-a42b-8dc2c9f6c169",
   "metadata": {},
   "outputs": [],
   "source": [
    "b = ['Sofia', 14, 10]"
   ]
  },
  {
   "cell_type": "code",
   "execution_count": 4,
   "id": "7475c641-1dbd-4298-82c0-efb790477211",
   "metadata": {},
   "outputs": [
    {
     "name": "stdout",
     "output_type": "stream",
     "text": [
      "{'name': 'Sofia', 'age': 14, 5: 10}\n"
     ]
    }
   ],
   "source": [
    "a = {'name':'Sofia', 'age':14, 5:10}\n",
    "print(a)"
   ]
  },
  {
   "cell_type": "code",
   "execution_count": 5,
   "id": "1af73ed9-65bb-401c-b939-f6466cc39fd1",
   "metadata": {},
   "outputs": [],
   "source": [
    "a['favority_hobby'] = 'math'"
   ]
  },
  {
   "cell_type": "code",
   "execution_count": 6,
   "id": "97f36d11-bed1-416f-9c82-ca2e69604e2b",
   "metadata": {},
   "outputs": [
    {
     "name": "stdout",
     "output_type": "stream",
     "text": [
      "{'name': 'Sofia', 'age': 14, 5: 10, 'favority_hobby': 'math'}\n"
     ]
    }
   ],
   "source": [
    "print(a)"
   ]
  },
  {
   "cell_type": "code",
   "execution_count": 8,
   "id": "ea3bf772-d928-4740-a4f0-69f6b71fb23d",
   "metadata": {},
   "outputs": [
    {
     "name": "stdout",
     "output_type": "stream",
     "text": [
      "Sofia\n"
     ]
    }
   ],
   "source": [
    "print(a['name'])"
   ]
  },
  {
   "cell_type": "code",
   "execution_count": 9,
   "id": "6e8d87ca-5f95-4f93-bea6-f92cb06853b9",
   "metadata": {},
   "outputs": [],
   "source": [
    "a = dict()"
   ]
  },
  {
   "cell_type": "code",
   "execution_count": 10,
   "id": "baa3f6c5-3410-4eb1-8c0b-3edd31e701e8",
   "metadata": {},
   "outputs": [
    {
     "data": {
      "text/plain": [
       "dict"
      ]
     },
     "execution_count": 10,
     "metadata": {},
     "output_type": "execute_result"
    }
   ],
   "source": [
    "type(a)"
   ]
  },
  {
   "cell_type": "code",
   "execution_count": 11,
   "id": "58099018-e8a9-42c5-a155-22f97dcf7252",
   "metadata": {},
   "outputs": [],
   "source": [
    "f = [[1,2], [3,4], [5,6]]"
   ]
  },
  {
   "cell_type": "code",
   "execution_count": 12,
   "id": "6313cdcf-3f06-4fbe-96ae-e767b4e71ddc",
   "metadata": {},
   "outputs": [],
   "source": [
    "a = dict(f)"
   ]
  },
  {
   "cell_type": "code",
   "execution_count": 13,
   "id": "a3bb11f8-429c-4415-b5fc-56671ad57c11",
   "metadata": {},
   "outputs": [
    {
     "name": "stdout",
     "output_type": "stream",
     "text": [
      "{1: 2, 3: 4, 5: 6}\n"
     ]
    }
   ],
   "source": [
    "print(a)"
   ]
  },
  {
   "cell_type": "code",
   "execution_count": 15,
   "id": "35be843b-3c3a-4160-b5e6-d96e67185cf4",
   "metadata": {},
   "outputs": [],
   "source": [
    "a[1] = 10000"
   ]
  },
  {
   "cell_type": "code",
   "execution_count": 16,
   "id": "94f18e20-862d-416c-acff-be69d235fc51",
   "metadata": {},
   "outputs": [
    {
     "data": {
      "text/plain": [
       "{1: 10000, 3: 4, 5: 6}"
      ]
     },
     "execution_count": 16,
     "metadata": {},
     "output_type": "execute_result"
    }
   ],
   "source": [
    "a"
   ]
  },
  {
   "cell_type": "code",
   "execution_count": 17,
   "id": "f61ab8cb-a830-4ecd-9527-0222062b33af",
   "metadata": {},
   "outputs": [],
   "source": [
    "del a[1]"
   ]
  },
  {
   "cell_type": "code",
   "execution_count": 18,
   "id": "5764d446-b02f-4a99-b7fc-d4e5278f8859",
   "metadata": {},
   "outputs": [
    {
     "data": {
      "text/plain": [
       "{3: 4, 5: 6}"
      ]
     },
     "execution_count": 18,
     "metadata": {},
     "output_type": "execute_result"
    }
   ],
   "source": [
    "a"
   ]
  },
  {
   "cell_type": "code",
   "execution_count": 19,
   "id": "90827f21-6830-4901-9192-e455e084c79f",
   "metadata": {},
   "outputs": [],
   "source": [
    "a = {1: 1004034, 2: 2332}"
   ]
  },
  {
   "cell_type": "code",
   "execution_count": 20,
   "id": "eacbc75c-533e-49a9-af5e-3e2a9577e008",
   "metadata": {},
   "outputs": [
    {
     "data": {
      "text/plain": [
       "{1: 1004034, 2: 2332}"
      ]
     },
     "execution_count": 20,
     "metadata": {},
     "output_type": "execute_result"
    }
   ],
   "source": [
    "a"
   ]
  },
  {
   "cell_type": "code",
   "execution_count": null,
   "id": "f1998a7c-64f7-479a-bf68-45e229d428e0",
   "metadata": {},
   "outputs": [],
   "source": []
  }
 ],
 "metadata": {
  "kernelspec": {
   "display_name": "Python 3 (ipykernel)",
   "language": "python",
   "name": "python3"
  },
  "language_info": {
   "codemirror_mode": {
    "name": "ipython",
    "version": 3
   },
   "file_extension": ".py",
   "mimetype": "text/x-python",
   "name": "python",
   "nbconvert_exporter": "python",
   "pygments_lexer": "ipython3",
   "version": "3.9.12"
  }
 },
 "nbformat": 4,
 "nbformat_minor": 5
}
