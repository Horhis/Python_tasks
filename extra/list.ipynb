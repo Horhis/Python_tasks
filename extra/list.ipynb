{
 "cells": [
  {
   "cell_type": "code",
   "execution_count": null,
   "id": "ac18dc10-1478-43df-a84d-cd1148e612a7",
   "metadata": {
    "is_executing": true
   },
   "outputs": [],
   "source": [
    "a = 5\n",
    "a1 = 10\n",
    "a2 = 20\n",
    "a3 = 10000000"
   ]
  },
  {
   "cell_type": "code",
   "outputs": [],
   "source": [
    "x = 5"
   ],
   "metadata": {
    "collapsed": false,
    "ExecuteTime": {
     "end_time": "2024-01-22T16:33:51.575044100Z",
     "start_time": "2024-01-22T16:33:51.557031600Z"
    }
   },
   "id": "fb147074fca869f9",
   "execution_count": 1
  },
  {
   "cell_type": "code",
   "outputs": [
    {
     "name": "stdout",
     "output_type": "stream",
     "text": [
      "5\n"
     ]
    }
   ],
   "source": [
    "print(x)"
   ],
   "metadata": {
    "collapsed": false,
    "ExecuteTime": {
     "end_time": "2024-01-22T16:34:00.884441300Z",
     "start_time": "2024-01-22T16:34:00.858915400Z"
    }
   },
   "id": "b1ee2c84619b142f",
   "execution_count": 2
  },
  {
   "cell_type": "code",
   "execution_count": 4,
   "id": "546a4342-fef8-4fa5-85c8-cf319cbb7e23",
   "metadata": {},
   "outputs": [],
   "source": [
    "b = 5.5\n",
    "b1 = 10.2\n",
    "b2 = 1000.3"
   ]
  },
  {
   "cell_type": "code",
   "execution_count": 7,
   "id": "49097f7a-37d0-4cf2-a16c-4c3d659f7f93",
   "metadata": {},
   "outputs": [],
   "source": [
    "s = 'Hello'\n",
    "name = 'Timur'\n",
    "city = 'Sochi'\n",
    "couuntry = 'Russia'"
   ]
  },
  {
   "cell_type": "code",
   "execution_count": 10,
   "id": "43ae238a-2fed-4e6d-847b-fcbb865e8945",
   "metadata": {},
   "outputs": [
    {
     "data": {
      "text/plain": [
       "int"
      ]
     },
     "execution_count": 10,
     "metadata": {},
     "output_type": "execute_result"
    }
   ],
   "source": [
    "type(a) # int"
   ]
  },
  {
   "cell_type": "code",
   "execution_count": 11,
   "id": "04367f1a-39a9-4213-96d9-a5010c4c533d",
   "metadata": {},
   "outputs": [
    {
     "data": {
      "text/plain": [
       "str"
      ]
     },
     "execution_count": 11,
     "metadata": {},
     "output_type": "execute_result"
    }
   ],
   "source": [
    "type(s) # str"
   ]
  },
  {
   "cell_type": "code",
   "execution_count": 12,
   "id": "4c20e0e5-6b2d-464d-9987-63cc76e3542d",
   "metadata": {},
   "outputs": [
    {
     "data": {
      "text/plain": [
       "float"
      ]
     },
     "execution_count": 12,
     "metadata": {},
     "output_type": "execute_result"
    }
   ],
   "source": [
    "type(b1) # float"
   ]
  },
  {
   "cell_type": "code",
   "execution_count": 13,
   "id": "29a72ab5-9da1-4a9b-b31a-3e8b2da82b62",
   "metadata": {},
   "outputs": [
    {
     "data": {
      "text/plain": [
       "list"
      ]
     },
     "execution_count": 13,
     "metadata": {},
     "output_type": "execute_result"
    }
   ],
   "source": [
    "g = [1,2,3,'timur']\n",
    "type(g) # list"
   ]
  },
  {
   "cell_type": "code",
   "execution_count": 15,
   "id": "8645f0ca-647d-44e5-86c7-58b92a36adda",
   "metadata": {},
   "outputs": [],
   "source": [
    "list_pokupok = ['Хлеб', 'Молоко', 'Шоколадка', 10, 'ice cream']"
   ]
  },
  {
   "cell_type": "code",
   "execution_count": 16,
   "id": "0557d9fe-6006-46aa-b10d-b498668d5af7",
   "metadata": {},
   "outputs": [
    {
     "name": "stdout",
     "output_type": "stream",
     "text": [
      "['Хлеб', 'Молоко', 'Шоколадка', 10, 'ice cream']\n"
     ]
    }
   ],
   "source": [
    "print(list_pokupok)"
   ]
  },
  {
   "cell_type": "code",
   "execution_count": 17,
   "id": "fa261834-e4b9-4818-8b74-5b89774068b3",
   "metadata": {},
   "outputs": [
    {
     "data": {
      "text/plain": [
       "'Шоколадка'"
      ]
     },
     "execution_count": 17,
     "metadata": {},
     "output_type": "execute_result"
    }
   ],
   "source": [
    "list_pokupok[2]"
   ]
  },
  {
   "cell_type": "code",
   "execution_count": 18,
   "id": "15baf5d3-2b17-4947-b1c3-897fe58931cc",
   "metadata": {},
   "outputs": [
    {
     "data": {
      "text/plain": [
       "'ice cream'"
      ]
     },
     "execution_count": 18,
     "metadata": {},
     "output_type": "execute_result"
    }
   ],
   "source": [
    "list_pokupok[4]"
   ]
  },
  {
   "cell_type": "code",
   "execution_count": 19,
   "id": "9e2bd4d9-3ab2-4363-9257-0df9215b308f",
   "metadata": {},
   "outputs": [
    {
     "data": {
      "text/plain": [
       "'ice cream'"
      ]
     },
     "execution_count": 19,
     "metadata": {},
     "output_type": "execute_result"
    }
   ],
   "source": [
    "list_pokupok[-1]"
   ]
  },
  {
   "cell_type": "code",
   "execution_count": 20,
   "id": "47cb48cb-cc1f-48b2-8bc8-592097cf8295",
   "metadata": {},
   "outputs": [
    {
     "data": {
      "text/plain": [
       "10"
      ]
     },
     "execution_count": 20,
     "metadata": {},
     "output_type": "execute_result"
    }
   ],
   "source": [
    "list_pokupok[-2]"
   ]
  },
  {
   "cell_type": "code",
   "execution_count": 30,
   "id": "658183d3-e2ef-482f-8efb-4cbdf1efee4c",
   "metadata": {},
   "outputs": [
    {
     "data": {
      "text/plain": [
       "['Хлеб', 'Шоколадка', 'ice cream']"
      ]
     },
     "execution_count": 30,
     "metadata": {},
     "output_type": "execute_result"
    }
   ],
   "source": [
    "list_pokupok[0:5:2]"
   ]
  },
  {
   "cell_type": "code",
   "execution_count": null,
   "id": "c482bf05-5865-47fd-b173-54a48eefa82a",
   "metadata": {},
   "outputs": [],
   "source": []
  }
 ],
 "metadata": {
  "kernelspec": {
   "display_name": "Python 3 (ipykernel)",
   "language": "python",
   "name": "python3"
  },
  "language_info": {
   "codemirror_mode": {
    "name": "ipython",
    "version": 3
   },
   "file_extension": ".py",
   "mimetype": "text/x-python",
   "name": "python",
   "nbconvert_exporter": "python",
   "pygments_lexer": "ipython3",
   "version": "3.9.12"
  }
 },
 "nbformat": 4,
 "nbformat_minor": 5
}
