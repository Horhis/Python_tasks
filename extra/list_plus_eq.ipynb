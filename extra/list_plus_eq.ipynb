{
 "cells": [
  {
   "cell_type": "code",
   "execution_count": 1,
   "id": "3925d1d1-0da4-4e95-be98-15f7b4e00c64",
   "metadata": {},
   "outputs": [],
   "source": [
    "a = [1,2,3]"
   ]
  },
  {
   "cell_type": "code",
   "execution_count": 2,
   "id": "e684cda8-5567-4331-820d-1133edf2d937",
   "metadata": {},
   "outputs": [],
   "source": [
    "a.append(5)"
   ]
  },
  {
   "cell_type": "code",
   "execution_count": 3,
   "id": "406dfd55-7511-408c-a084-b281606d822d",
   "metadata": {},
   "outputs": [
    {
     "data": {
      "text/plain": [
       "[1, 2, 3, 5]"
      ]
     },
     "execution_count": 3,
     "metadata": {},
     "output_type": "execute_result"
    }
   ],
   "source": [
    "a"
   ]
  },
  {
   "cell_type": "code",
   "execution_count": 4,
   "id": "2d79ad5a-ea1c-427a-bed2-77798dbb3bd4",
   "metadata": {},
   "outputs": [
    {
     "ename": "TypeError",
     "evalue": "'int' object is not iterable",
     "output_type": "error",
     "traceback": [
      "\u001b[1;31m---------------------------------------------------------------------------\u001b[0m",
      "\u001b[1;31mTypeError\u001b[0m                                 Traceback (most recent call last)",
      "Input \u001b[1;32mIn [4]\u001b[0m, in \u001b[0;36m<cell line: 1>\u001b[1;34m()\u001b[0m\n\u001b[1;32m----> 1\u001b[0m \u001b[43ma\u001b[49m\u001b[38;5;241;43m.\u001b[39;49m\u001b[43mextend\u001b[49m\u001b[43m(\u001b[49m\u001b[38;5;241;43m6\u001b[39;49m\u001b[43m)\u001b[49m\n",
      "\u001b[1;31mTypeError\u001b[0m: 'int' object is not iterable"
     ]
    }
   ],
   "source": [
    "a.extend(6)"
   ]
  },
  {
   "cell_type": "code",
   "execution_count": 10,
   "id": "8e657e66-570c-4b62-95b9-2c8511a0fbf6",
   "metadata": {},
   "outputs": [],
   "source": [
    "a = '1234'"
   ]
  },
  {
   "cell_type": "code",
   "execution_count": 7,
   "id": "9bb666c7-3bd0-4f46-91a3-8304e96e8fac",
   "metadata": {},
   "outputs": [
    {
     "ename": "TypeError",
     "evalue": "'int' object is not iterable",
     "output_type": "error",
     "traceback": [
      "\u001b[1;31m---------------------------------------------------------------------------\u001b[0m",
      "\u001b[1;31mTypeError\u001b[0m                                 Traceback (most recent call last)",
      "Input \u001b[1;32mIn [7]\u001b[0m, in \u001b[0;36m<cell line: 1>\u001b[1;34m()\u001b[0m\n\u001b[1;32m----> 1\u001b[0m \u001b[38;5;28;01mfor\u001b[39;00m i \u001b[38;5;129;01min\u001b[39;00m a:\n\u001b[0;32m      2\u001b[0m     \u001b[38;5;28mprint\u001b[39m(i)\n",
      "\u001b[1;31mTypeError\u001b[0m: 'int' object is not iterable"
     ]
    }
   ],
   "source": [
    "for i in a:\n",
    "    print(i)"
   ]
  },
  {
   "cell_type": "code",
   "execution_count": 13,
   "id": "0f7d1427-6735-48db-b5e5-bb5a8cb76121",
   "metadata": {},
   "outputs": [
    {
     "data": {
      "text/plain": [
       "'3'"
      ]
     },
     "execution_count": 13,
     "metadata": {},
     "output_type": "execute_result"
    }
   ],
   "source": [
    "a[2]"
   ]
  },
  {
   "cell_type": "code",
   "execution_count": 14,
   "id": "ba5ff125-6fa1-42eb-8f5b-6030496bb1f6",
   "metadata": {},
   "outputs": [],
   "source": [
    "b = 123456"
   ]
  },
  {
   "cell_type": "code",
   "execution_count": 17,
   "id": "c54c682b-835f-4797-b7c2-66b137380fa5",
   "metadata": {},
   "outputs": [],
   "source": [
    "c = str(b)"
   ]
  },
  {
   "cell_type": "code",
   "execution_count": 18,
   "id": "dffc5087-f7b2-4837-8eaf-70e738f8a00c",
   "metadata": {},
   "outputs": [
    {
     "data": {
      "text/plain": [
       "'1'"
      ]
     },
     "execution_count": 18,
     "metadata": {},
     "output_type": "execute_result"
    }
   ],
   "source": [
    "c[0]"
   ]
  },
  {
   "cell_type": "code",
   "execution_count": 19,
   "id": "7a9abff3-733d-4240-ab75-ca8460719ecb",
   "metadata": {},
   "outputs": [
    {
     "data": {
      "text/plain": [
       "'123456'"
      ]
     },
     "execution_count": 19,
     "metadata": {},
     "output_type": "execute_result"
    }
   ],
   "source": [
    "c[:]"
   ]
  },
  {
   "cell_type": "code",
   "execution_count": 29,
   "id": "da1c7e8b-1ea3-4e20-96ea-7c994253eb6b",
   "metadata": {},
   "outputs": [
    {
     "name": "stdout",
     "output_type": "stream",
     "text": [
      "[1, 2, 3, 4, 5, 6]\n"
     ]
    }
   ],
   "source": [
    "g = []\n",
    "for i in c:\n",
    "    g.append(int(i))\n",
    "    \n",
    "print(g)"
   ]
  },
  {
   "cell_type": "code",
   "execution_count": 31,
   "id": "ae38a69f-b465-4f1b-bd86-8ab2bc6fb69e",
   "metadata": {},
   "outputs": [
    {
     "data": {
      "text/plain": [
       "False"
      ]
     },
     "execution_count": 31,
     "metadata": {},
     "output_type": "execute_result"
    }
   ],
   "source": [
    "sum(g[0:3]) == sum(g[3:])"
   ]
  },
  {
   "cell_type": "code",
   "execution_count": 22,
   "id": "1a182ae6-65ba-4341-bd1c-b2f80601086d",
   "metadata": {},
   "outputs": [
    {
     "name": "stderr",
     "output_type": "stream",
     "text": [
      "<>:1: SyntaxWarning: 'list' object is not callable; perhaps you missed a comma?\n",
      "<>:1: SyntaxWarning: 'list' object is not callable; perhaps you missed a comma?\n",
      "C:\\Users\\stima\\AppData\\Local\\Temp\\ipykernel_8752\\811207257.py:1: SyntaxWarning: 'list' object is not callable; perhaps you missed a comma?\n",
      "  [] ()\n",
      "C:\\Users\\stima\\AppData\\Local\\Temp\\ipykernel_8752\\811207257.py:1: SyntaxWarning: 'list' object is not callable; perhaps you missed a comma?\n",
      "  [] ()\n",
      "C:\\Users\\stima\\AppData\\Local\\Temp\\ipykernel_8752\\811207257.py:1: SyntaxWarning: 'list' object is not callable; perhaps you missed a comma?\n",
      "  [] ()\n"
     ]
    },
    {
     "ename": "TypeError",
     "evalue": "'list' object is not callable",
     "output_type": "error",
     "traceback": [
      "\u001b[1;31m---------------------------------------------------------------------------\u001b[0m",
      "\u001b[1;31mTypeError\u001b[0m                                 Traceback (most recent call last)",
      "Input \u001b[1;32mIn [22]\u001b[0m, in \u001b[0;36m<cell line: 1>\u001b[1;34m()\u001b[0m\n\u001b[1;32m----> 1\u001b[0m \u001b[43m[\u001b[49m\u001b[43m]\u001b[49m\u001b[43m \u001b[49m\u001b[43m(\u001b[49m\u001b[43m)\u001b[49m\n",
      "\u001b[1;31mTypeError\u001b[0m: 'list' object is not callable"
     ]
    }
   ],
   "source": [
    "[] - включительно\n",
    "() - до"
   ]
  },
  {
   "cell_type": "code",
   "execution_count": 32,
   "id": "18c7ebba-9b32-4d7c-94e5-6b3f0c4dba4b",
   "metadata": {},
   "outputs": [],
   "source": [
    "j = 123123"
   ]
  },
  {
   "cell_type": "code",
   "execution_count": 35,
   "id": "5bc012c1-a114-40f2-bf01-99084ad821ea",
   "metadata": {},
   "outputs": [
    {
     "data": {
      "text/plain": [
       "[1, 2, 3, 1, 2, 3]"
      ]
     },
     "execution_count": 35,
     "metadata": {},
     "output_type": "execute_result"
    }
   ],
   "source": [
    "list(map(int, str(j)))"
   ]
  },
  {
   "cell_type": "code",
   "execution_count": null,
   "id": "c3307822-fc79-415a-8851-f501bf6b4c78",
   "metadata": {},
   "outputs": [],
   "source": []
  }
 ],
 "metadata": {
  "kernelspec": {
   "display_name": "Python 3 (ipykernel)",
   "language": "python",
   "name": "python3"
  },
  "language_info": {
   "codemirror_mode": {
    "name": "ipython",
    "version": 3
   },
   "file_extension": ".py",
   "mimetype": "text/x-python",
   "name": "python",
   "nbconvert_exporter": "python",
   "pygments_lexer": "ipython3",
   "version": "3.9.12"
  }
 },
 "nbformat": 4,
 "nbformat_minor": 5
}
