{
 "cells": [
  {
   "cell_type": "markdown",
   "id": "e079b871-542d-4fa7-b204-e753145b2b3e",
   "metadata": {},
   "source": [
    "Типы данных"
   ]
  },
  {
   "cell_type": "code",
   "execution_count": 2,
   "id": "aadf745c-25ff-4645-a66e-094e92c9a4c0",
   "metadata": {},
   "outputs": [],
   "source": [
    "text = 'маленький ежик бежит и хохочет. Травка ежику животик щикотит' #str\n",
    "text2 = 'травка закончилась, гравий пошел. Ежик домой без пыпыски пришел'\n",
    "word = 'Hello' #str\n",
    "a = 'A'\n",
    "num = '555'"
   ]
  },
  {
   "cell_type": "code",
   "execution_count": 3,
   "id": "3c33b86b-729d-4e45-a748-e5d1b8b21d67",
   "metadata": {},
   "outputs": [
    {
     "data": {
      "text/plain": [
       "str"
      ]
     },
     "execution_count": 3,
     "metadata": {},
     "output_type": "execute_result"
    }
   ],
   "source": [
    "type(text)"
   ]
  },
  {
   "cell_type": "code",
   "execution_count": 4,
   "id": "1ac54383-b1da-4eb4-8693-a16d799090b3",
   "metadata": {},
   "outputs": [],
   "source": [
    "numbers = 10 #int - integer\n",
    "float_numbers = 10.5 #float\n"
   ]
  },
  {
   "cell_type": "code",
   "execution_count": 5,
   "id": "01e460b6-178d-49e3-9bd6-4ed8efb9af2d",
   "metadata": {},
   "outputs": [
    {
     "data": {
      "text/plain": [
       "int"
      ]
     },
     "execution_count": 5,
     "metadata": {},
     "output_type": "execute_result"
    }
   ],
   "source": [
    "type(numbers)"
   ]
  },
  {
   "cell_type": "code",
   "execution_count": 6,
   "id": "a6bb3088-4fec-4d52-afd4-51b4dc606c45",
   "metadata": {},
   "outputs": [
    {
     "data": {
      "text/plain": [
       "float"
      ]
     },
     "execution_count": 6,
     "metadata": {},
     "output_type": "execute_result"
    }
   ],
   "source": [
    "type(float_numbers)"
   ]
  },
  {
   "cell_type": "code",
   "execution_count": 7,
   "id": "954aac48-2d5d-4449-a433-fb4a512a8a90",
   "metadata": {},
   "outputs": [
    {
     "data": {
      "text/plain": [
       "20"
      ]
     },
     "execution_count": 7,
     "metadata": {},
     "output_type": "execute_result"
    }
   ],
   "source": [
    "10+10"
   ]
  },
  {
   "cell_type": "code",
   "execution_count": 8,
   "id": "f2a7b34f-755e-467d-8a85-168893156b9c",
   "metadata": {},
   "outputs": [
    {
     "data": {
      "text/plain": [
       "20.5"
      ]
     },
     "execution_count": 8,
     "metadata": {},
     "output_type": "execute_result"
    }
   ],
   "source": [
    "10+10.5"
   ]
  },
  {
   "cell_type": "code",
   "execution_count": 10,
   "id": "5e309db5-fcf9-4b54-913f-9e3cb3991d6c",
   "metadata": {},
   "outputs": [
    {
     "data": {
      "text/plain": [
       "20"
      ]
     },
     "execution_count": 10,
     "metadata": {},
     "output_type": "execute_result"
    }
   ],
   "source": [
    "10+int('10')"
   ]
  },
  {
   "cell_type": "code",
   "execution_count": 11,
   "id": "0302da9f-5705-4bf8-afdb-e2314e1e9d3f",
   "metadata": {},
   "outputs": [],
   "source": [
    "not_spisok = 'milk, chokolate, paper' \n",
    "spisok_list = []"
   ]
  },
  {
   "cell_type": "code",
   "execution_count": 16,
   "id": "2b0eb658-f449-4437-9acc-9fdd26a0b1c7",
   "metadata": {},
   "outputs": [
    {
     "name": "stdout",
     "output_type": "stream",
     "text": [
      "['milk', 'chokolate', 'paper', 10, 10.5]\n"
     ]
    }
   ],
   "source": [
    "print(spisok_list)"
   ]
  },
  {
   "cell_type": "code",
   "execution_count": 15,
   "id": "b31abbef-6c1b-436b-9bf4-e44f1c481f07",
   "metadata": {},
   "outputs": [],
   "source": [
    "spisok_list = ['milk','chokolate', 'paper', 10, 10.5] #list"
   ]
  },
  {
   "cell_type": "code",
   "execution_count": 17,
   "id": "7d428238-3358-493f-94bd-9c5dfa0e4576",
   "metadata": {},
   "outputs": [
    {
     "data": {
      "text/plain": [
       "list"
      ]
     },
     "execution_count": 17,
     "metadata": {},
     "output_type": "execute_result"
    }
   ],
   "source": [
    "type(spisok_list)"
   ]
  },
  {
   "cell_type": "code",
   "execution_count": null,
   "id": "61de60e9-ba96-46c0-b7fb-f6731122b3cd",
   "metadata": {},
   "outputs": [],
   "source": [
    "eng = {'A':1,'B':2}"
   ]
  },
  {
   "cell_type": "code",
   "execution_count": 18,
   "id": "469a2405-11ba-483c-acb1-c4b339ada0c4",
   "metadata": {},
   "outputs": [],
   "source": [
    "person = {'name':'Timur','age':23,'hobbies':'swim,coding'} #dict"
   ]
  },
  {
   "cell_type": "code",
   "execution_count": 19,
   "id": "2edfd5da-fcdf-4c92-835f-c341874e60c6",
   "metadata": {},
   "outputs": [
    {
     "data": {
      "text/plain": [
       "dict"
      ]
     },
     "execution_count": 19,
     "metadata": {},
     "output_type": "execute_result"
    }
   ],
   "source": [
    "type(person)"
   ]
  },
  {
   "cell_type": "code",
   "execution_count": 20,
   "id": "b9ec06ec-45a5-4244-b940-a95369adba5a",
   "metadata": {},
   "outputs": [],
   "source": [
    "#кортежи\n"
   ]
  },
  {
   "cell_type": "code",
   "execution_count": 21,
   "id": "f70d2d88-09ee-435c-80d4-620655c21a0e",
   "metadata": {},
   "outputs": [],
   "source": [
    "a = (1,2,3)  #tuple"
   ]
  },
  {
   "cell_type": "code",
   "execution_count": 22,
   "id": "70e8cef2-ebc4-476a-8037-a99e139f8e45",
   "metadata": {},
   "outputs": [
    {
     "name": "stdout",
     "output_type": "stream",
     "text": [
      "(1, 2, 3)\n"
     ]
    }
   ],
   "source": [
    "print(a)"
   ]
  },
  {
   "cell_type": "code",
   "execution_count": 23,
   "id": "fed4a632-d465-4377-b266-fda3aa52d040",
   "metadata": {},
   "outputs": [
    {
     "data": {
      "text/plain": [
       "tuple"
      ]
     },
     "execution_count": 23,
     "metadata": {},
     "output_type": "execute_result"
    }
   ],
   "source": [
    "type(a)"
   ]
  },
  {
   "cell_type": "code",
   "execution_count": 24,
   "id": "33eeb83b-eb77-4711-ba78-02f743217aa0",
   "metadata": {},
   "outputs": [],
   "source": [
    "# множества"
   ]
  },
  {
   "cell_type": "code",
   "execution_count": 25,
   "id": "45c3ce6b-f8a5-47e2-adc1-a3f567da655f",
   "metadata": {},
   "outputs": [],
   "source": [
    "a = set() #set"
   ]
  },
  {
   "cell_type": "code",
   "execution_count": 26,
   "id": "a2de76fc-b7dd-428b-bceb-dc32c511e160",
   "metadata": {},
   "outputs": [
    {
     "data": {
      "text/plain": [
       "set"
      ]
     },
     "execution_count": 26,
     "metadata": {},
     "output_type": "execute_result"
    }
   ],
   "source": [
    "type(a)"
   ]
  },
  {
   "cell_type": "code",
   "execution_count": 34,
   "id": "cf8185fb-3d23-4bbf-b6a0-6677949a10dd",
   "metadata": {},
   "outputs": [],
   "source": [
    "a = set('Привет')"
   ]
  },
  {
   "cell_type": "code",
   "execution_count": 36,
   "id": "48f5098f-cef1-47ec-874c-158c704dfc1d",
   "metadata": {},
   "outputs": [
    {
     "name": "stdout",
     "output_type": "stream",
     "text": [
      "{'в', 'П', 'т', 'е', 'и', 'р'}\n"
     ]
    }
   ],
   "source": [
    "print(a)"
   ]
  },
  {
   "cell_type": "code",
   "execution_count": 41,
   "id": "4ef9d5aa-24f3-496f-bca6-818349f0455d",
   "metadata": {},
   "outputs": [],
   "source": [
    "age = 20"
   ]
  },
  {
   "cell_type": "code",
   "execution_count": 42,
   "id": "ed67a3b1-e34d-4b7a-a78a-54275dfae810",
   "metadata": {},
   "outputs": [
    {
     "name": "stdout",
     "output_type": "stream",
     "text": [
      "Not\n"
     ]
    }
   ],
   "source": [
    "if age == 14:\n",
    "    print('Sofia')\n",
    "else:\n",
    "    print('Not')"
   ]
  },
  {
   "cell_type": "code",
   "execution_count": null,
   "id": "19f360b0-1e78-4943-b5c0-f61f26fad52e",
   "metadata": {},
   "outputs": [],
   "source": []
  },
  {
   "cell_type": "markdown",
   "id": "4ffb7c30-a053-4543-9690-3c4b300d168b",
   "metadata": {},
   "source": [
    "Числовой тип данных"
   ]
  },
  {
   "cell_type": "code",
   "execution_count": 43,
   "id": "d409e77a-b28a-43d5-92e0-e600dbd229f9",
   "metadata": {},
   "outputs": [],
   "source": [
    "x = 5\n",
    "y = 6\n",
    "z = 0"
   ]
  },
  {
   "cell_type": "markdown",
   "id": "0d8e6a7e-f1be-4f76-8692-2def77b0fdf2",
   "metadata": {},
   "source": [
    "3x+x=?"
   ]
  },
  {
   "cell_type": "code",
   "execution_count": 44,
   "id": "b40db7f5-fc4d-4deb-80ba-409039ea0cda",
   "metadata": {},
   "outputs": [
    {
     "data": {
      "text/plain": [
       "11"
      ]
     },
     "execution_count": 44,
     "metadata": {},
     "output_type": "execute_result"
    }
   ],
   "source": [
    "x+y # +"
   ]
  },
  {
   "cell_type": "code",
   "execution_count": 45,
   "id": "c81503a2-3a0e-443c-94a9-dd601b7c9676",
   "metadata": {},
   "outputs": [
    {
     "data": {
      "text/plain": [
       "-1"
      ]
     },
     "execution_count": 45,
     "metadata": {},
     "output_type": "execute_result"
    }
   ],
   "source": [
    "x-y # -"
   ]
  },
  {
   "cell_type": "code",
   "execution_count": 46,
   "id": "5a8496b1-8af7-45d0-a97e-720e8ffbc774",
   "metadata": {},
   "outputs": [
    {
     "data": {
      "text/plain": [
       "30"
      ]
     },
     "execution_count": 46,
     "metadata": {},
     "output_type": "execute_result"
    }
   ],
   "source": [
    "x*y # умножение"
   ]
  },
  {
   "cell_type": "code",
   "execution_count": 47,
   "id": "4c2045ce-cb03-4db0-89f8-7887abe0b859",
   "metadata": {},
   "outputs": [
    {
     "data": {
      "text/plain": [
       "25"
      ]
     },
     "execution_count": 47,
     "metadata": {},
     "output_type": "execute_result"
    }
   ],
   "source": [
    "x**2 # возведение в степень"
   ]
  },
  {
   "cell_type": "code",
   "execution_count": 48,
   "id": "ddfe35b6-4682-44e4-a2c6-aac67e68da11",
   "metadata": {},
   "outputs": [
    {
     "data": {
      "text/plain": [
       "1.2"
      ]
     },
     "execution_count": 48,
     "metadata": {},
     "output_type": "execute_result"
    }
   ],
   "source": [
    "y/x # деление"
   ]
  },
  {
   "cell_type": "code",
   "execution_count": 49,
   "id": "beff8e46-aa01-4c0d-89a2-2f53b94873f4",
   "metadata": {},
   "outputs": [
    {
     "data": {
      "text/plain": [
       "1"
      ]
     },
     "execution_count": 49,
     "metadata": {},
     "output_type": "execute_result"
    }
   ],
   "source": [
    "y//x #целочисленное деление"
   ]
  },
  {
   "cell_type": "code",
   "execution_count": 55,
   "id": "2bf47c88-be44-4fb8-aeec-7afcbd8c98b1",
   "metadata": {},
   "outputs": [
    {
     "data": {
      "text/plain": [
       "1"
      ]
     },
     "execution_count": 55,
     "metadata": {},
     "output_type": "execute_result"
    }
   ],
   "source": [
    "y%x # получение остатка от деления"
   ]
  },
  {
   "cell_type": "code",
   "execution_count": 59,
   "id": "698d8b27-dad3-4050-b6d2-57e6d286800c",
   "metadata": {},
   "outputs": [
    {
     "data": {
      "text/plain": [
       "60"
      ]
     },
     "execution_count": 59,
     "metadata": {},
     "output_type": "execute_result"
    }
   ],
   "source": [
    "x*(y+y)"
   ]
  },
  {
   "cell_type": "code",
   "execution_count": 63,
   "id": "3ff60092-b78d-48f7-b67f-23ef49f397e2",
   "metadata": {},
   "outputs": [
    {
     "data": {
      "text/plain": [
       "30"
      ]
     },
     "execution_count": 63,
     "metadata": {},
     "output_type": "execute_result"
    }
   ],
   "source": [
    "#3x+x=?\n",
    "3*(x+x)"
   ]
  },
  {
   "cell_type": "code",
   "execution_count": 62,
   "id": "93196431-77ed-4a50-93be-413a065e1407",
   "metadata": {},
   "outputs": [
    {
     "data": {
      "text/plain": [
       "131"
      ]
     },
     "execution_count": 62,
     "metadata": {},
     "output_type": "execute_result"
    }
   ],
   "source": [
    "#5x^2+y=?\n",
    "5*(x**2)+y"
   ]
  },
  {
   "cell_type": "markdown",
   "id": "98c03ceb-e8af-4878-88d4-46b37ee6236b",
   "metadata": {},
   "source": [
    "ДЗ\n",
    "x = 10\n",
    "y = 4\n",
    "\n",
    "1. x^3=?\n",
    "2. x+y=?\n",
    "3. y^5\n",
    "4. x-y*9/5\n",
    "5. (x-9)*(4-y)\n",
    "6. y-x+y-x+y\n",
    "7. (x+y)^2\n",
    "8. x^2+y^2/(x+y)\n",
    "9. Как при делении 10 на 4 получить значение равное 2.5\n",
    "10. Как при делении 10 на 4 получить значение равное 2\n",
    "11. Как получить остаток от деления"
   ]
  },
  {
   "cell_type": "code",
   "execution_count": 64,
   "id": "1652d4ac-b22e-4195-9559-ea8ce7689001",
   "metadata": {},
   "outputs": [
    {
     "data": {
      "text/plain": [
       "125"
      ]
     },
     "execution_count": 64,
     "metadata": {},
     "output_type": "execute_result"
    }
   ],
   "source": [
    "x**3"
   ]
  },
  {
   "cell_type": "code",
   "execution_count": null,
   "id": "9b944dba-61fe-4ac0-9dab-4cf439a0e13b",
   "metadata": {},
   "outputs": [],
   "source": []
  }
 ],
 "metadata": {
  "kernelspec": {
   "display_name": "Python 3 (ipykernel)",
   "language": "python",
   "name": "python3"
  },
  "language_info": {
   "codemirror_mode": {
    "name": "ipython",
    "version": 3
   },
   "file_extension": ".py",
   "mimetype": "text/x-python",
   "name": "python",
   "nbconvert_exporter": "python",
   "pygments_lexer": "ipython3",
   "version": "3.9.12"
  }
 },
 "nbformat": 4,
 "nbformat_minor": 5
}
