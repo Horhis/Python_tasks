{
 "cells": [
  {
   "cell_type": "code",
   "execution_count": 1,
   "id": "e6225b52-3d31-4e8c-8be8-b14e4d2f97d6",
   "metadata": {},
   "outputs": [
    {
     "name": "stdout",
     "output_type": "stream",
     "text": [
      "5\n",
      "None\n",
      "0\n"
     ]
    }
   ],
   "source": [
    "my_dict = {\"apple\": 5, \"banana\": 2, \"orange\": 8}\n",
    "print(my_dict.get(\"apple\"))     \n",
    "print(my_dict.get(\"grape\"))    \n",
    "print(my_dict.get(\"grape\", 0))"
   ]
  },
  {
   "cell_type": "code",
   "execution_count": 2,
   "id": "031db5f6-a462-4493-aec7-de464d39f871",
   "metadata": {},
   "outputs": [
    {
     "name": "stdout",
     "output_type": "stream",
     "text": [
      "5\n",
      "15\n",
      "{'apple': 5, 'banana': 2, 'orange': 8, 'grape': 15}\n"
     ]
    }
   ],
   "source": [
    "my_dict = {\"apple\": 5, \"banana\": 2, \"orange\": 8}\n",
    "print(my_dict.setdefault(\"apple\", 10))\n",
    "print(my_dict.setdefault(\"grape\", 15))\n",
    "print(my_dict)"
   ]
  },
  {
   "cell_type": "markdown",
   "id": "5c3ee683-b688-4763-af87-70cd4a9ea494",
   "metadata": {},
   "source": [
    "### OrderedDict"
   ]
  },
  {
   "cell_type": "code",
   "execution_count": 3,
   "id": "a48b702b-ae39-4733-b767-b6cb15d4ffa2",
   "metadata": {},
   "outputs": [
    {
     "name": "stdout",
     "output_type": "stream",
     "text": [
      "OrderedDict({'apple': 5, 'banana': 2, 'orange': 8})\n"
     ]
    }
   ],
   "source": [
    "from collections import OrderedDict\n",
    "\n",
    "ordered_dict = OrderedDict()\n",
    "ordered_dict[\"apple\"] = 5\n",
    "ordered_dict[\"banana\"] = 2\n",
    "ordered_dict[\"orange\"] = 8\n",
    "\n",
    "print(ordered_dict)"
   ]
  },
  {
   "cell_type": "code",
   "execution_count": 5,
   "id": "eb0c7d13-9af0-4244-9c6f-5018b49b95e0",
   "metadata": {},
   "outputs": [
    {
     "name": "stdout",
     "output_type": "stream",
     "text": [
      "OrderedDict({'apple': 5, 'banana': 2, 'orange': 8, 'grape': 15})\n"
     ]
    }
   ],
   "source": [
    "ordered_dict['grape'] = 15\n",
    "print(ordered_dict)"
   ]
  },
  {
   "cell_type": "code",
   "execution_count": 4,
   "id": "5c7b05cd-8d42-40b8-a26b-edefb492f843",
   "metadata": {},
   "outputs": [
    {
     "name": "stdout",
     "output_type": "stream",
     "text": [
      "2\n",
      "5\n"
     ]
    }
   ],
   "source": [
    "od1 = OrderedDict([('apple', 5), ('banana', 2), ('orange', 8)])\n",
    "od2 = OrderedDict({'apple': 5, 'banana': 2, 'orange': 8})\n",
    "print(od1['banana'])\n",
    "print(od2['apple'])"
   ]
  },
  {
   "cell_type": "code",
   "execution_count": 11,
   "id": "aa6319ba-ed07-4ee4-a865-2201e9bc8913",
   "metadata": {},
   "outputs": [
    {
     "name": "stdout",
     "output_type": "stream",
     "text": [
      "5\n",
      "OrderedDict({'banana': 2, 'orange': 8})\n",
      "('orange', 8)\n",
      "OrderedDict({'banana': 2})\n"
     ]
    }
   ],
   "source": [
    "ordered_dict = OrderedDict({'apple': 5, 'banana': 2, 'orange': 8})\n",
    "print(ordered_dict.pop('apple'))\n",
    "print(ordered_dict)\n",
    "print(ordered_dict.popitem(last=True))\n",
    "# print(ordered_dict.popitem(last=False))\n",
    "print(ordered_dict)"
   ]
  },
  {
   "cell_type": "markdown",
   "id": "7a622158-0836-4aed-bf42-2da4d22a73ef",
   "metadata": {},
   "source": [
    "### LRU-кэш"
   ]
  },
  {
   "cell_type": "code",
   "execution_count": 15,
   "id": "3ba62de5-74dc-4acb-b73a-41727c92fc6e",
   "metadata": {},
   "outputs": [
    {
     "name": "stdout",
     "output_type": "stream",
     "text": [
      "OrderedDict({'apple': 5, 'banana': 2, 'orange': 8})\n",
      "OrderedDict({'apple': 5, 'orange': 8, 'banana': 7})\n",
      "OrderedDict({'apple': 5, 'orange': 8, 'banana': 7, 'grape': 15})\n"
     ]
    }
   ],
   "source": [
    "from collections import OrderedDict\n",
    "\n",
    "def lru_cache(capacity, cache, key, value):\n",
    "    if key in cache:\n",
    "        # Если ключ уже существует, обновляем значение и перемещаем элемент в конец словаря\n",
    "        cache.pop(key)\n",
    "    elif len(cache) >= capacity:\n",
    "        # Если кэш переполнен, удаляем первый элемент (самый старый)\n",
    "        cache.popitem(last=False)\n",
    "    cache[key] = value\n",
    "\n",
    "\n",
    "capacity = 3\n",
    "cache = OrderedDict()\n",
    "\n",
    "lru_cache(capacity, cache, \"apple\", 5)\n",
    "lru_cache(capacity, cache, \"banana\", 2)\n",
    "lru_cache(capacity, cache, \"orange\", 8)\n",
    "\n",
    "print(cache)\n",
    "\n",
    "# Обновляем значение \"key2\"\n",
    "lru_cache(capacity, cache, \"banana\", 7)  \n",
    "print(cache)\n",
    "\n",
    "# # Кэш переполнен, удаляем \"key1\"\n",
    "lru_cache(capacity, cache, \"grape\", 15)  \n",
    "print(cache)"
   ]
  },
  {
   "cell_type": "code",
   "execution_count": null,
   "id": "955f8c2b-7d05-4de9-87bb-df52b79d9050",
   "metadata": {},
   "outputs": [],
   "source": [
    "def updateOrder(OrderedDict,key):\n",
    "    if key in OrderedDict:\n",
    "        value=OrderedDict.pop(key)\n",
    "        OrderedDict[key] = value\n",
    "\n"
   ]
  },
  {
   "cell_type": "markdown",
   "id": "1f89de8c-62a6-4bc1-859c-2574bf5a2d4e",
   "metadata": {},
   "source": [
    "### Defaultdict"
   ]
  },
  {
   "cell_type": "code",
   "execution_count": 16,
   "id": "90ede025-9b95-4925-81ec-532d98f64c22",
   "metadata": {},
   "outputs": [
    {
     "name": "stdout",
     "output_type": "stream",
     "text": [
      "5\n",
      "0\n",
      "defaultdict(<class 'int'>, {'apple': 5, 'banana': 0})\n"
     ]
    }
   ],
   "source": [
    "from collections import defaultdict\n",
    "\n",
    "my_dict = defaultdict(int)\n",
    "my_dict[\"apple\"] = 5\n",
    "print(my_dict[\"apple\"])\n",
    "print(my_dict[\"banana\"])\n",
    "print(my_dict)"
   ]
  },
  {
   "cell_type": "markdown",
   "id": "5cb84df0-c05b-4d9d-8c13-82ed5d264bc2",
   "metadata": {},
   "source": [
    "### Counter"
   ]
  },
  {
   "cell_type": "code",
   "execution_count": 32,
   "id": "a3557235-c253-4c3a-a877-fc5a2afe2da0",
   "metadata": {},
   "outputs": [
    {
     "name": "stdout",
     "output_type": "stream",
     "text": [
      "Counter({1: 3, 2: 3, 3: 3, 4: 2, 5: 1})\n",
      "3\n",
      "[(1, 3), (2, 3)]\n"
     ]
    }
   ],
   "source": [
    "from collections import Counter\n",
    "\n",
    "my_list = [1, 2, 3, 1, 2, 3, 1, 2, 4, 5, 4, 3]\n",
    "my_counter = Counter(my_list)\n",
    "print(my_counter)   \n",
    "print(my_counter[1]) \n",
    "print(my_counter.most_common(2))\n",
    "# print(list(my_counter.elements()))"
   ]
  },
  {
   "cell_type": "code",
   "execution_count": 31,
   "id": "defbf131-c388-4350-b708-3843b5a5cb16",
   "metadata": {},
   "outputs": [
    {
     "name": "stdout",
     "output_type": "stream",
     "text": [
      "Counter({1: 3, 2: 3, 3: 3, 4: 2, 5: 1})\n",
      "Counter({2: 4, 1: 3, 3: 2, 4: 1})\n",
      "Counter({3: 1, 4: 1, 5: 1})\n",
      "Counter({2: 4, 1: 3, 3: 2, 4: 1})\n"
     ]
    }
   ],
   "source": [
    "my_list = [1, 2, 3, 1, 2, 3, 1, 2, 4, 5, 4, 3]\n",
    "my_counter = Counter(my_list)\n",
    "new_list = [1, 2, 3, 1, 2, 3, 1, 2, 4, 2]\n",
    "new_counter = Counter(new_list)\n",
    "print(my_counter)\n",
    "print(new_counter)\n",
    "# print(list(new_counter.elements()))\n",
    "print(my_counter - new_counter)\n",
    "print(my_counter and new_counter)"
   ]
  },
  {
   "cell_type": "markdown",
   "id": "a7a54f00-98a8-4d45-b2e3-92ff326dd28f",
   "metadata": {},
   "source": [
    "### Именованные кортежи"
   ]
  },
  {
   "cell_type": "code",
   "execution_count": 33,
   "id": "bca1035a-20d3-4c31-8081-4edf0ad89ada",
   "metadata": {},
   "outputs": [
    {
     "name": "stdout",
     "output_type": "stream",
     "text": [
      "Alice\n",
      "30\n"
     ]
    }
   ],
   "source": [
    "from collections import namedtuple\n",
    "\n",
    "# Создаем именованный кортеж с именами полей 'name' и 'age'\n",
    "Person = namedtuple('Person', ['name', 'age'])\n",
    "\n",
    "person1 = Person(name='Alice', age=30)\n",
    "print(person1.name) \n",
    "print(person1.age)"
   ]
  },
  {
   "cell_type": "markdown",
   "id": "1908d46a-7391-47e9-8627-5c4ee77f6853",
   "metadata": {},
   "source": [
    "### json"
   ]
  },
  {
   "cell_type": "code",
   "execution_count": 35,
   "id": "67b8e2a3-d52c-42d0-aa33-13a6b54df2df",
   "metadata": {},
   "outputs": [
    {
     "name": "stdout",
     "output_type": "stream",
     "text": [
      "{\"name\": \"John\", \"age\": 25, \"city\": \"New York\"}\n",
      "John\n"
     ]
    }
   ],
   "source": [
    "import json\n",
    "\n",
    "# Сериализация Python-объекта в JSON-строку\n",
    "data = {\"name\": \"John\", \"age\": 25, \"city\": \"New York\"}\n",
    "json_str = json.dumps(data)\n",
    "print(json_str)\n",
    "\n",
    "# Десериализация JSON-строки в Python-объект\n",
    "json_str = '{\"name\": \"John\", \"age\": 25, \"city\": \"New York\"}'\n",
    "data = json.loads(json_str)\n",
    "print(data[\"name\"])\n"
   ]
  },
  {
   "cell_type": "code",
   "execution_count": null,
   "id": "aa362995-ffbd-4c1d-a633-3185084e7ca0",
   "metadata": {},
   "outputs": [],
   "source": []
  }
 ],
 "metadata": {
  "kernelspec": {
   "display_name": "Python 3",
   "language": "python",
   "name": "python3"
  },
  "language_info": {
   "codemirror_mode": {
    "name": "ipython",
    "version": 3
   },
   "file_extension": ".py",
   "mimetype": "text/x-python",
   "name": "python",
   "nbconvert_exporter": "python",
   "pygments_lexer": "ipython3",
   "version": "3.12.1"
  }
 },
 "nbformat": 4,
 "nbformat_minor": 5
}
