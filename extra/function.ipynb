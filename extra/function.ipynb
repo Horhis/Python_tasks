{
 "cells": [
  {
   "cell_type": "markdown",
   "id": "79d5c3dd-15ea-49f7-ba83-844f5ff477f4",
   "metadata": {},
   "source": [
    "Функция - это некий алгоритм, который принимает в себя какой либо объект и возвращает результат действия над ним"
   ]
  },
  {
   "cell_type": "code",
   "execution_count": 4,
   "id": "94ac89f8-6300-436c-aeb4-cfd9e9e1563d",
   "metadata": {},
   "outputs": [
    {
     "name": "stdout",
     "output_type": "stream",
     "text": [
      "5\n",
      "5\n",
      "6\n"
     ]
    }
   ],
   "source": [
    "print(5, 5, 6, sep='\\n')"
   ]
  },
  {
   "cell_type": "code",
   "execution_count": 13,
   "id": "5b560d13-e1f4-46b8-a015-c170fc34b1c2",
   "metadata": {},
   "outputs": [],
   "source": [
    "def printt(*a, sep=''):\n",
    "    print(*a, sep=sep)"
   ]
  },
  {
   "cell_type": "code",
   "execution_count": 14,
   "id": "93fc1220-e2b6-4a53-bb83-c48d006be8a0",
   "metadata": {},
   "outputs": [
    {
     "name": "stdout",
     "output_type": "stream",
     "text": [
      "6\n",
      "5\n"
     ]
    }
   ],
   "source": [
    "printt(6, 5, sep='\\n')"
   ]
  },
  {
   "cell_type": "code",
   "execution_count": 17,
   "id": "aa8cf3fd-4cba-47f3-a2f0-ccdf5952a8bb",
   "metadata": {},
   "outputs": [
    {
     "name": "stdout",
     "output_type": "stream",
     "text": [
      "6\n"
     ]
    },
    {
     "data": {
      "text/plain": [
       "6"
      ]
     },
     "execution_count": 17,
     "metadata": {},
     "output_type": "execute_result"
    }
   ],
   "source": [
    "def func():\n",
    "    # тело функции\n",
    "    print(6)\n",
    "    return 6\n",
    "\n",
    "func()\n"
   ]
  },
  {
   "cell_type": "code",
   "execution_count": 29,
   "id": "ca30806a-50c2-4bff-8160-4d0c0b1ffbf4",
   "metadata": {},
   "outputs": [
    {
     "name": "stdout",
     "output_type": "stream",
     "text": [
      "6\n"
     ]
    },
    {
     "data": {
      "text/plain": [
       "6"
      ]
     },
     "execution_count": 29,
     "metadata": {},
     "output_type": "execute_result"
    }
   ],
   "source": [
    "def func4():\n",
    "    # тело функции\n",
    "    print(6)\n",
    "    return 6\n",
    "\n",
    "func4(5)"
   ]
  },
  {
   "cell_type": "code",
   "execution_count": 33,
   "id": "33d141c5-cb38-4e42-9f23-fdc1629d9bc9",
   "metadata": {},
   "outputs": [
    {
     "name": "stdout",
     "output_type": "stream",
     "text": [
      "10\n"
     ]
    }
   ],
   "source": [
    "x = 5\n",
    "y = 2\n",
    "\n",
    "def func4():\n",
    "    global z\n",
    "    # тело функции\n",
    "    z = x*y\n",
    "    return z\n",
    "\n",
    "func4()\n",
    "print(z)"
   ]
  },
  {
   "cell_type": "code",
   "execution_count": 39,
   "id": "2855077e-df96-4529-ba57-3fc232ba3b01",
   "metadata": {},
   "outputs": [
    {
     "name": "stdout",
     "output_type": "stream",
     "text": [
      "25\n",
      "5\n",
      "2\n"
     ]
    }
   ],
   "source": [
    "x = 5\n",
    "y = 2\n",
    "\n",
    "def func4(a,b): # a = x, b = y\n",
    "    # тело функции\n",
    "    z = a**b\n",
    "    return z\n",
    "\n",
    "res = func4(x,y)  # функция принимает два аргумента\n",
    "print(res)\n",
    "print(x,y,sep='\\n')"
   ]
  },
  {
   "cell_type": "code",
   "execution_count": null,
   "id": "3a2f7393-a9f9-4a6d-ae18-7d341c92975f",
   "metadata": {},
   "outputs": [],
   "source": []
  }
 ],
 "metadata": {
  "kernelspec": {
   "display_name": "Python 3 (ipykernel)",
   "language": "python",
   "name": "python3"
  },
  "language_info": {
   "codemirror_mode": {
    "name": "ipython",
    "version": 3
   },
   "file_extension": ".py",
   "mimetype": "text/x-python",
   "name": "python",
   "nbconvert_exporter": "python",
   "pygments_lexer": "ipython3",
   "version": "3.9.12"
  }
 },
 "nbformat": 4,
 "nbformat_minor": 5
}
