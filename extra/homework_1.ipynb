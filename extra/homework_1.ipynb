{
 "cells": [
  {
   "cell_type": "markdown",
   "id": "1d382f5b-2c47-484d-88c6-0a1a6b1bfebf",
   "metadata": {},
   "source": [
    "### Задание 1\n",
    "\n",
    "Создай 3 переменные. В одной хранится твое имя, во второй - возраст, в третьей - твои увлечения"
   ]
  },
  {
   "cell_type": "code",
   "execution_count": null,
   "id": "107689ae-4f48-47f6-85d8-72a3246d58b7",
   "metadata": {},
   "outputs": [],
   "source": [
    "#тут пиши код"
   ]
  },
  {
   "cell_type": "markdown",
   "id": "bc1d94c5-5699-4741-bb4f-8b619014331e",
   "metadata": {},
   "source": [
    "### Задание 2\n",
    "\n",
    "Выведи через print все три переменные"
   ]
  },
  {
   "cell_type": "code",
   "execution_count": null,
   "id": "a502a00f-cc68-498d-ab34-8d787150afd1",
   "metadata": {},
   "outputs": [],
   "source": [
    "#тут пиши код"
   ]
  },
  {
   "cell_type": "markdown",
   "id": "838ed14c-8a6e-4632-8134-eeddee72de24",
   "metadata": {},
   "source": [
    "### Задание 2.1. ###\n",
    "\n",
    "С помощью команды type() мы можем посмотреть тип данных нашей переменной.\n",
    "\n",
    "Посмотри какой тип данных у каждой переменной. Пример: type(name)"
   ]
  },
  {
   "cell_type": "code",
   "execution_count": 5,
   "id": "a49db87c-c74c-4974-b416-cc94323784d8",
   "metadata": {},
   "outputs": [
    {
     "ename": "NameError",
     "evalue": "name 'name' is not defined",
     "output_type": "error",
     "traceback": [
      "\u001B[1;31m---------------------------------------------------------------------------\u001B[0m",
      "\u001B[1;31mNameError\u001B[0m                                 Traceback (most recent call last)",
      "Input \u001B[1;32mIn [5]\u001B[0m, in \u001B[0;36m<cell line: 1>\u001B[1;34m()\u001B[0m\n\u001B[1;32m----> 1\u001B[0m \u001B[38;5;28mtype\u001B[39m(\u001B[43mname\u001B[49m)\n",
      "\u001B[1;31mNameError\u001B[0m: name 'name' is not defined"
     ]
    }
   ],
   "source": [
    "type(name)"
   ]
  },
  {
   "cell_type": "code",
   "execution_count": null,
   "id": "a374701e-b418-4aac-8c3c-89b47893b880",
   "metadata": {},
   "outputs": [],
   "source": [
    "#тут пиши код"
   ]
  },
  {
   "cell_type": "markdown",
   "id": "6c875123-8cec-4152-b245-14453bee2efe",
   "metadata": {},
   "source": [
    "### Задание 2.2. ###\n",
    "\n",
    "Если у тебя переменная содержит число, то тогда тип данных будет int (integer). Это числовой тип данных\n",
    "Если у тебя переменная это текст, то тип данных будет str (string). Это строковый тип данных\n",
    "\n",
    "Мы можем изменять тип данных наших перемен, однако если текст у тебя состоит не из цифр, то изменить его нельзя\n",
    "Пример: \n",
    "\n",
    "    1) 5 - это число, чтобы поменять на строковый тип данных, нужно написать - str(5)\n",
    "    2) '5' - это текст (так как в кавычках), чтобы преобразовать в текст нужно использовать это - int('5')\n",
    "    3) При этом такой текст - 'Hello', 'T9' - нельзя перевести в тип данных int, так как они не могут быть числами\n",
    "    \n",
    "Задание: \n",
    "    Измени тип данных у своих переменных, там где это возможно (скорее всего тебе нужно будет превратить age в строковый тип данных)"
   ]
  },
  {
   "cell_type": "code",
   "execution_count": null,
   "id": "dd89a607-5e5b-407b-b8a1-51608eb60f9d",
   "metadata": {},
   "outputs": [],
   "source": [
    "#тут пиши код"
   ]
  },
  {
   "cell_type": "markdown",
   "id": "99db26ea-12fb-4263-8b16-4c54b780372c",
   "metadata": {},
   "source": [
    "### Задание 3. ###\n",
    "\n",
    "Выведи через print такое предложение: Меня зовут {твое имя}, мне {твой возраст} лет.\n",
    "При этом сделай это через сложение строк и переменных (через +)"
   ]
  },
  {
   "cell_type": "code",
   "execution_count": null,
   "id": "1587b1de-e1d1-42d9-8afa-0850d4c0f52f",
   "metadata": {},
   "outputs": [],
   "source": [
    "#тут пиши код"
   ]
  },
  {
   "cell_type": "markdown",
   "id": "66d5d7e4-9de1-43d6-b611-52280bcf7a14",
   "metadata": {},
   "source": [
    "### Задание 4. ###\n",
    "\n",
    "Повтори Задание 3, но только через f-строку"
   ]
  },
  {
   "cell_type": "code",
   "execution_count": null,
   "id": "aacb870f-ed43-4992-aaca-cdf1ac0ecec4",
   "metadata": {},
   "outputs": [],
   "source": [
    "#тут пиши код"
   ]
  },
  {
   "cell_type": "markdown",
   "id": "27c319cf-ed5c-4771-8778-f45f0311dd2a",
   "metadata": {},
   "source": [
    "### Задание 5. ###\n",
    "\n",
    "Веведи через print, используя f-строку такое предложение: Меня зовут {твое имя}, мне {твой возраст} лет. Мне нравится делать это - {твои улучшения}"
   ]
  },
  {
   "cell_type": "code",
   "execution_count": 4,
   "id": "e3ce5a5c-3bdf-4444-a5a1-902236549508",
   "metadata": {},
   "outputs": [],
   "source": [
    "#тут пиши код"
   ]
  }
 ],
 "metadata": {
  "kernelspec": {
   "display_name": "Python 3 (ipykernel)",
   "language": "python",
   "name": "python3"
  },
  "language_info": {
   "codemirror_mode": {
    "name": "ipython",
    "version": 3
   },
   "file_extension": ".py",
   "mimetype": "text/x-python",
   "name": "python",
   "nbconvert_exporter": "python",
   "pygments_lexer": "ipython3",
   "version": "3.9.12"
  }
 },
 "nbformat": 4,
 "nbformat_minor": 5
}
