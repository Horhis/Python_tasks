{
 "cells": [
  {
   "cell_type": "code",
   "execution_count": null,
   "id": "initial_id",
   "metadata": {
    "collapsed": true,
    "ExecuteTime": {
     "end_time": "2024-02-13T16:42:15.177419700Z",
     "start_time": "2024-02-13T16:42:15.169359200Z"
    }
   },
   "outputs": [],
   "source": [
    "a = 5\n",
    "print(a)"
   ]
  },
  {
   "cell_type": "markdown",
   "source": [
    "Алгоритм - инструкция по выполению кода\n",
    "\n",
    "1. может быть сложным в написании, но быстрым\n",
    "2. может быть легким в написании, но медленным\n"
   ],
   "metadata": {
    "collapsed": false
   },
   "id": "2b60f56b5c9acadd"
  },
  {
   "cell_type": "markdown",
   "source": [
    "**Линейный поиск и Бинарный поиск**"
   ],
   "metadata": {
    "collapsed": false
   },
   "id": "b1b47d20bf998ddb"
  },
  {
   "cell_type": "code",
   "outputs": [],
   "source": [
    "Линейный поиск = 100 операциям\n",
    "a = [1 ... 100] \n",
    "Бинарный поиск (делаем срез -- проверяем, наше значение больше середины среза или меньше) = 7 операция\n",
    "a = [1 ... 100]\n",
    "1. массив должен быть отсортирован (по возрастанию - sorted(number))\n",
    "2. O большое показывает худший вариант развития событий (мы предполает что больше операций не будет затрачено)\n",
    "3. время алгоритма растет с разной скоростью\n",
    "\n",
    "100\n",
    "50\n",
    "25\n",
    "12\n",
    "6\n",
    "3\n",
    "1"
   ],
   "metadata": {
    "collapsed": false
   },
   "id": "a13628219d82ffde"
  },
  {
   "cell_type": "markdown",
   "source": [
    "**О большое**\n",
    "Количество операция алгоритма\n",
    "\n",
    "n = кол элементов\n",
    "Линейный поиск - O(n) = 100\n",
    "Бинарный поиск - O(log n) (основание 2) - log 100 = 7 "
   ],
   "metadata": {
    "collapsed": false
   },
   "id": "dc3e00035925bdc4"
  },
  {
   "cell_type": "code",
   "outputs": [
    {
     "name": "stdout",
     "output_type": "stream",
     "text": [
      "355.82832464072055\n",
      "3.6485519224500402\n",
      "4.0\n",
      "17.872674880270605\n",
      "7.0\n"
     ]
    }
   ],
   "source": [
    "import math\n",
    "\n",
    "a = 2\n",
    "\n",
    "\n",
    "print(5**3.65)\n",
    "#в какую степень нужно возвести 2, чтобы получить 16? 4\n",
    "#в какую степень нужно возвести 5, чтобы получить 355? \n",
    "\n",
    "#логарифм - это степень, в которую нужно возвести число\n",
    "\n",
    "print(math.log(355,5))\n",
    "print(math.log10(10000))\n",
    "print(math.log2(240000))\n",
    "\n",
    "print(math.log2(180)) = 8"
   ],
   "metadata": {
    "collapsed": false,
    "ExecuteTime": {
     "end_time": "2024-02-13T17:12:57.371388Z",
     "start_time": "2024-02-13T17:12:57.250873Z"
    }
   },
   "id": "ad325186473bc243",
   "execution_count": 18
  },
  {
   "cell_type": "code",
   "outputs": [],
   "source": [
    "длина массива (кол значений) = 240 000\n",
    "Линейный поиск = O(n) = 240000\n",
    "Бинарный поиск = O(log2 n) = log2 240000 = 18"
   ],
   "metadata": {
    "collapsed": false
   },
   "id": "1188b85a769b7832"
  },
  {
   "cell_type": "code",
   "outputs": [
    {
     "name": "stdout",
     "output_type": "stream",
     "text": [
      "[0, 1, 2, 3, 4, 4, 5, 6, 7, 8, 8, 8]\n"
     ]
    }
   ],
   "source": [
    "number = [1,4,8,3,5,8,0,2,4,6,8,7]\n",
    "print(sorted(number))"
   ],
   "metadata": {
    "collapsed": false,
    "ExecuteTime": {
     "end_time": "2024-02-13T17:06:52.734218700Z",
     "start_time": "2024-02-13T17:06:52.497885800Z"
    }
   },
   "id": "879b871ac4e0b6ad",
   "execution_count": 16
  },
  {
   "cell_type": "code",
   "outputs": [
    {
     "name": "stdout",
     "output_type": "stream",
     "text": [
      "[1, 2, 3, 4, 5, 6, 7, 8, 9, 10, 11, 12, 13, 14, 15, 16, 17, 18, 19, 20, 21, 22, 23, 24, 25, 26, 27, 28, 29, 30, 31, 32, 33, 34, 35, 36, 37, 38, 39, 40, 41, 42, 43, 44, 45, 46, 47, 48, 49, 50, 51, 52, 53, 54, 55, 56, 57, 58, 59, 60, 61, 62, 63, 64, 65, 66, 67, 68, 69, 70, 71, 72, 73, 74, 75, 76, 77, 78, 79, 80, 81, 82, 83, 84, 85, 86, 87, 88, 89, 90, 91, 92, 93, 94, 95, 96, 97, 98, 99, 100]\n"
     ]
    }
   ],
   "source": [
    "lst_number = []\n",
    "\n",
    "for i in range(1,101):\n",
    "    lst_number.append(i)\n",
    "    \n",
    "print(lst_number)"
   ],
   "metadata": {
    "collapsed": false,
    "ExecuteTime": {
     "end_time": "2024-02-13T17:50:05.403209100Z",
     "start_time": "2024-02-13T17:50:05.279837300Z"
    }
   },
   "id": "1ee87aa9c5f1511f",
   "execution_count": 42
  },
  {
   "cell_type": "code",
   "outputs": [
    {
     "name": "stdout",
     "output_type": "stream",
     "text": [
      "0\n"
     ]
    }
   ],
   "source": [
    "# Линейный поиск\n",
    "find_number = 1\n",
    "\n",
    "for i in range(len(lst_number)):\n",
    "    if lst_number[i] == find_number:\n",
    "        print(i)\n",
    "        break"
   ],
   "metadata": {
    "collapsed": false,
    "ExecuteTime": {
     "end_time": "2024-02-13T17:39:36.614201600Z",
     "start_time": "2024-02-13T17:39:36.373664100Z"
    }
   },
   "id": "e82110cda53563d3",
   "execution_count": 28
  },
  {
   "cell_type": "code",
   "outputs": [
    {
     "name": "stdout",
     "output_type": "stream",
     "text": [
      "[1, 2, 3, 5]\n",
      "[1, 2, 3, 5]\n"
     ]
    }
   ],
   "source": [
    "# изменяемые и неизменяемы типы данных\n",
    "find_number = 100 # 1 объект\n",
    "lst_number3 = [1,2,3]\n",
    "\n",
    "def binary_search(n):\n",
    "    #return number+1 # 2 объект\n",
    "    n.append(5)\n",
    "    return n\n",
    "\n",
    "print(binary_search(lst_number3))\n",
    "print(lst_number3)\n"
   ],
   "metadata": {
    "collapsed": false,
    "ExecuteTime": {
     "end_time": "2024-02-13T17:48:59.590317900Z",
     "start_time": "2024-02-13T17:48:59.480145100Z"
    }
   },
   "id": "28f91bb4ca687c9f",
   "execution_count": 41
  },
  {
   "cell_type": "code",
   "outputs": [
    {
     "name": "stdout",
     "output_type": "stream",
     "text": [
      "0\n"
     ]
    }
   ],
   "source": [
    "# Бинарный поиск\n",
    "find_number = 100\n",
    "\n",
    "def binary_search(lst, item):\n",
    "    low = 0 \n",
    "    high = len(lst) - 1 \n",
    "    \n",
    "    while low <= high:\n",
    "        mid = (low + high)//2 \n",
    "        guess = lst[mid]    \n",
    "        if guess == item: \n",
    "            return mid  # индекс\n",
    "        elif guess >= item:\n",
    "            high = mid - 1\n",
    "        else: # guess <= item\n",
    "            low = mid + 1\n",
    "    return 'no number'   \n",
    "    \n",
    "print(binary_search(lst_number, find_number))"
   ],
   "metadata": {
    "collapsed": false,
    "ExecuteTime": {
     "end_time": "2024-02-13T18:24:23.170400100Z",
     "start_time": "2024-02-13T18:24:23.032553900Z"
    }
   },
   "id": "ebdaa232aeb286b7",
   "execution_count": 49
  },
  {
   "cell_type": "code",
   "outputs": [
    {
     "name": "stdout",
     "output_type": "stream",
     "text": [
      "[1, 2, 3, 5]\n"
     ]
    }
   ],
   "source": [
    "[1, 2, 3, 4, 5, 6, 7, 8] \n",
    "лин поиск = 8\n",
    "бинарный поиск = 3\n",
    "\n",
    "low = 0 -- 0 -- 0 -- 0\n",
    "high = 7 -- 3 -- 1 -- 0\n",
    "\n",
    "[1,2,3,4]\n",
    "[1,2]\n",
    "1\n",
    "\n",
    "low = 0 == 4 == 6 == 7\n",
    "high = 7 == 7 == 7 == 7\n",
    "\n",
    "[5, 6, 7, 8]\n",
    "[7, 8]\n",
    "8\n"
   ],
   "metadata": {
    "collapsed": false,
    "ExecuteTime": {
     "end_time": "2024-02-13T17:46:51.886194800Z",
     "start_time": "2024-02-13T17:46:51.849894700Z"
    }
   },
   "id": "ef390f0c0894c6c2",
   "execution_count": 35
  },
  {
   "cell_type": "code",
   "outputs": [
    {
     "ename": "TypeError",
     "evalue": "math.log2() takes exactly one argument (3 given)",
     "output_type": "error",
     "traceback": [
      "\u001B[1;31m---------------------------------------------------------------------------\u001B[0m",
      "\u001B[1;31mTypeError\u001B[0m                                 Traceback (most recent call last)",
      "Input \u001B[1;32mIn [47]\u001B[0m, in \u001B[0;36m<module>\u001B[1;34m\u001B[0m\n\u001B[0;32m      1\u001B[0m \u001B[38;5;28;01mimport\u001B[39;00m \u001B[38;5;21;01mmath\u001B[39;00m\n\u001B[1;32m----> 3\u001B[0m \u001B[43mmath\u001B[49m\u001B[38;5;241;43m.\u001B[39;49m\u001B[43mlog2\u001B[49m\u001B[43m(\u001B[49m\u001B[38;5;241;43m5\u001B[39;49m\u001B[43m,\u001B[49m\u001B[38;5;241;43m5\u001B[39;49m\u001B[43m,\u001B[49m\u001B[38;5;241;43m5\u001B[39;49m\u001B[43m)\u001B[49m\n",
      "\u001B[1;31mTypeError\u001B[0m: math.log2() takes exactly one argument (3 given)"
     ]
    }
   ],
   "source": [
    "import math as m \n",
    "\n",
    "m."
   ],
   "metadata": {
    "collapsed": false,
    "ExecuteTime": {
     "end_time": "2024-02-13T18:23:12.911156800Z",
     "start_time": "2024-02-13T18:23:12.773163900Z"
    }
   },
   "id": "287061e5758cedc5",
   "execution_count": 47
  }
 ],
 "metadata": {
  "kernelspec": {
   "display_name": "Python 3",
   "language": "python",
   "name": "python3"
  },
  "language_info": {
   "codemirror_mode": {
    "name": "ipython",
    "version": 2
   },
   "file_extension": ".py",
   "mimetype": "text/x-python",
   "name": "python",
   "nbconvert_exporter": "python",
   "pygments_lexer": "ipython2",
   "version": "2.7.6"
  }
 },
 "nbformat": 4,
 "nbformat_minor": 5
}
