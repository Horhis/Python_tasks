{
 "cells": [
  {
   "cell_type": "markdown",
   "id": "b8deefee-7e1a-42d3-a5c7-0c4246cd5ee3",
   "metadata": {},
   "source": [
    "# Итоговый тест по базовому питону\n",
    "\n",
    "1. Переменные\n",
    "2. Типы данных\n",
    "3. Методы строк, списков, словарей\n",
    "4. If-else\n",
    "5. for and while\n",
    "6. def "
   ]
  },
  {
   "cell_type": "markdown",
   "source": [
    "### Задание 1\n",
    "Создай 4 переменные разных тип данных - int, str, list, dict. Выведи их через f-строку по порядку"
   ],
   "metadata": {
    "collapsed": false
   },
   "id": "cbf5b8117a13465b"
  },
  {
   "cell_type": "code",
   "execution_count": null,
   "id": "2819f7a4-94c9-4dc4-a4fe-d9f13cef0c96",
   "metadata": {},
   "outputs": [],
   "source": [
    "# Место для решения"
   ]
  },
  {
   "cell_type": "markdown",
   "source": [
    "### Задание 2\n",
    "Измени у всех переменных тип данных на str и сложи их в новую переменную"
   ],
   "metadata": {
    "collapsed": false
   },
   "id": "1e5fc14b5ee67536"
  },
  {
   "cell_type": "code",
   "execution_count": 1,
   "id": "4956193f-a523-49b1-9b19-dca46365dc8b",
   "metadata": {},
   "outputs": [],
   "source": [
    "# Место для решения"
   ]
  },
  {
   "cell_type": "markdown",
   "source": [
    "### Задание 3\n",
    "Вернуть тип данных переменным обратно"
   ],
   "metadata": {
    "collapsed": false
   },
   "id": "a12caf079b5d3ef5"
  },
  {
   "cell_type": "code",
   "execution_count": 2,
   "id": "5ea9b787-5d21-462f-915e-aba288f9d33a",
   "metadata": {},
   "outputs": [],
   "source": [
    "# Место для решения"
   ]
  },
  {
   "cell_type": "markdown",
   "source": [
    "### Задание 4\n",
    "Создай новую переменную (int). Затем создай новую переменную с типом str и посчитай ее длину. Затем прибавь к первой переменной длину второй"
   ],
   "metadata": {
    "collapsed": false
   },
   "id": "ca041a7e386e3891"
  },
  {
   "cell_type": "code",
   "execution_count": 3,
   "id": "67477043-2624-4c01-9b63-9b05445385e8",
   "metadata": {},
   "outputs": [],
   "source": [
    "# Место для решения"
   ]
  },
  {
   "cell_type": "markdown",
   "source": [
    "### Задание 5\n",
    "Найди квадратный корень от переменной с типом int"
   ],
   "metadata": {
    "collapsed": false
   },
   "id": "b0504473ed205158"
  },
  {
   "cell_type": "code",
   "execution_count": 4,
   "id": "e0f14273-a746-43f1-9aaa-3b9b9f759c32",
   "metadata": {},
   "outputs": [],
   "source": [
    "# Место для решения"
   ]
  },
  {
   "cell_type": "markdown",
   "source": [
    "### Задание 6\n",
    "Напиши код на Python, который выводит квадраты чисел от 1 до 5."
   ],
   "metadata": {
    "collapsed": false
   },
   "id": "db4ba8b196063b0f"
  },
  {
   "cell_type": "code",
   "execution_count": null,
   "id": "117dfdc8-975b-4ca9-867e-1d084c213269",
   "metadata": {},
   "outputs": [],
   "source": [
    "# Место для решения"
   ]
  },
  {
   "cell_type": "markdown",
   "source": [
    "### Задание 7\n",
    "Выведи по символу переменную str"
   ],
   "metadata": {
    "collapsed": false
   },
   "id": "b7a472fdf2d41141"
  },
  {
   "cell_type": "code",
   "execution_count": 5,
   "id": "f847c3cb-bcd4-40fe-a387-2324a0fe96c6",
   "metadata": {},
   "outputs": [],
   "source": [
    "# Место для решения"
   ]
  },
  {
   "cell_type": "markdown",
   "source": [
    "### Задание 8\n",
    "Возьми срез из переменной типа str, так чтобы на выводе был только первый и последний элемент"
   ],
   "metadata": {
    "collapsed": false
   },
   "id": "103a1a5d45fb5e0a"
  },
  {
   "cell_type": "code",
   "execution_count": null,
   "id": "78d9fbdd-ccb0-4277-900b-a1bc22a0186e",
   "metadata": {},
   "outputs": [],
   "source": [
    "# Место для решения"
   ]
  },
  {
   "cell_type": "markdown",
   "source": [
    "### Задание 9\n",
    "Переведи все значения переменной str в верхний регистр (большие буквы)"
   ],
   "metadata": {
    "collapsed": false
   },
   "id": "fcf236df602d537a"
  },
  {
   "cell_type": "code",
   "execution_count": null,
   "id": "98ce13a3-237d-4fa8-a2a6-06d9dfcc67fd",
   "metadata": {},
   "outputs": [],
   "source": [
    "# Место для решения"
   ]
  },
  {
   "cell_type": "markdown",
   "source": [
    "### Задание 10\n",
    "Какой метод используется для замены подстроки в строке? Напиши пример кода"
   ],
   "metadata": {
    "collapsed": false
   },
   "id": "7e66635bdf5ddb3a"
  },
  {
   "cell_type": "code",
   "execution_count": null,
   "id": "217cc584-5713-4dd8-b338-a4857f8eceed",
   "metadata": {},
   "outputs": [],
   "source": [
    "# Место для решения"
   ]
  },
  {
   "cell_type": "markdown",
   "source": [
    "### Задание 11\n",
    "Возьми строку и раздели ее на список подстрок по определенному разделителю (метод split). \n",
    "Можешь взять любой текст и любой разделитель"
   ],
   "metadata": {
    "collapsed": false
   },
   "id": "512d7d6fd6e96891"
  },
  {
   "cell_type": "code",
   "execution_count": null,
   "id": "2b5cf47c-22ac-46f4-beec-3b361a711b20",
   "metadata": {},
   "outputs": [],
   "source": [
    "# Место для решения"
   ]
  },
  {
   "cell_type": "markdown",
   "source": [
    "### Задание 12\n",
    "Cоздай переменную строку в виде \" exam_1 \" и удали пробелы в начале и в конце строки"
   ],
   "metadata": {
    "collapsed": false
   },
   "id": "1d52d9da635ddd89"
  },
  {
   "cell_type": "code",
   "execution_count": null,
   "id": "21b3f7fe-8c2a-4b89-95b7-6eff7d924aca",
   "metadata": {},
   "outputs": [],
   "source": [
    "# Место для решения"
   ]
  },
  {
   "cell_type": "markdown",
   "source": [
    "### Задание 13\n",
    "Что делает метод find()? Приведи пример"
   ],
   "metadata": {
    "collapsed": false
   },
   "id": "8bc0bcba943e4e76"
  },
  {
   "cell_type": "code",
   "execution_count": null,
   "id": "f8a18c85-f8a6-4f83-9a2a-cd5316cda2ef",
   "metadata": {},
   "outputs": [],
   "source": [
    "# Место для решения"
   ]
  },
  {
   "cell_type": "markdown",
   "source": [
    "### Задание 14\n",
    "Напишите код на Python, который принимает строку и проверяет,\n",
    "является ли она палиндромом (читается одинаково в обоих направлениях).\n",
    "Подсказка: выведи сначала строку наоборот через срез [::-1]"
   ],
   "metadata": {
    "collapsed": false
   },
   "id": "d6b328ab764fe876"
  },
  {
   "cell_type": "code",
   "execution_count": null,
   "id": "73c647cd-e694-442e-880b-bc9441a0c77a",
   "metadata": {},
   "outputs": [],
   "source": [
    "# Место для решения"
   ]
  },
  {
   "cell_type": "markdown",
   "source": [
    "### Задание 15\n",
    "Создай список со значениями: 1,2,3. Добавь в него еще 5-7 различных значений"
   ],
   "metadata": {
    "collapsed": false
   },
   "id": "22cd112a8483fd45"
  },
  {
   "cell_type": "code",
   "execution_count": 6,
   "id": "abdde3a1-30b1-44dc-b0b4-dfcda7f33453",
   "metadata": {},
   "outputs": [],
   "source": [
    "# Место для решения"
   ]
  },
  {
   "cell_type": "markdown",
   "source": [
    "### Задание 16\n",
    "Какой метод используется для добавления элемента в конец списка? Приведи пример"
   ],
   "metadata": {
    "collapsed": false
   },
   "id": "4c0314220d3b1b9"
  },
  {
   "cell_type": "code",
   "execution_count": null,
   "id": "9557cf97-b5a2-471d-9140-23a0b1dd63dd",
   "metadata": {},
   "outputs": [],
   "source": [
    "# Место для решения"
   ]
  },
  {
   "cell_type": "markdown",
   "source": [
    "### Задание 17\n",
    "Чем метод append отличается от метода extend? Приведи пример"
   ],
   "metadata": {
    "collapsed": false
   },
   "id": "c6e78e3bd1127ea7"
  },
  {
   "cell_type": "code",
   "execution_count": null,
   "id": "4f7dfd88-a6aa-4ce6-a694-dc39394fc0ba",
   "metadata": {},
   "outputs": [],
   "source": [
    "# Место для решения"
   ]
  },
  {
   "cell_type": "markdown",
   "source": [
    "### Задание 18\n",
    "Напиши код на Python, который создает список чисел от 1 до 5, \n",
    "умножает каждый элемент списка на 2 и выводит результат (в виде списка)."
   ],
   "metadata": {
    "collapsed": false
   },
   "id": "e31fd7418e2517d4"
  },
  {
   "cell_type": "code",
   "execution_count": null,
   "id": "3a976b35-dca8-4cce-a1f6-cfab8abecd05",
   "metadata": {},
   "outputs": [],
   "source": [
    "# Место для решения"
   ]
  },
  {
   "cell_type": "markdown",
   "source": [
    "### Задание 19\n",
    "Какой метод делает копию списка? Приведи пример"
   ],
   "metadata": {
    "collapsed": false
   },
   "id": "5ae95e0de688fb1"
  },
  {
   "cell_type": "code",
   "execution_count": null,
   "id": "6285792c-5fb9-4842-ae8c-303e9456a6d9",
   "metadata": {},
   "outputs": [],
   "source": [
    "# Место для решения"
   ]
  },
  {
   "cell_type": "markdown",
   "source": [
    "### Задание 20\n",
    "Создай два списка и объедини их"
   ],
   "metadata": {
    "collapsed": false
   },
   "id": "15baabddf589db0e"
  },
  {
   "cell_type": "code",
   "execution_count": null,
   "id": "bcafee1a-2166-4874-93a7-817c710eeaeb",
   "metadata": {},
   "outputs": [],
   "source": [
    "# Место для решения"
   ]
  },
  {
   "cell_type": "markdown",
   "source": [
    "### Задание 21\n",
    "Объедини два списка и удали дубликаты. (можешь использовать set)"
   ],
   "metadata": {
    "collapsed": false
   },
   "id": "f184522a4fd5d6a4"
  },
  {
   "cell_type": "code",
   "execution_count": null,
   "id": "90ae860b-ad6d-40c1-8bb4-bb8527e89011",
   "metadata": {},
   "outputs": [],
   "source": [
    "# Место для решения"
   ]
  },
  {
   "cell_type": "markdown",
   "source": [
    "### Задание 22\n",
    "Очисти список методом. Какой это метод?"
   ],
   "metadata": {
    "collapsed": false
   },
   "id": "b60dc42a57b91137"
  },
  {
   "cell_type": "code",
   "execution_count": null,
   "id": "5f2c1dfc-3af5-4294-89a8-620230d5dfcf",
   "metadata": {},
   "outputs": [],
   "source": [
    "# Место для решения"
   ]
  },
  {
   "cell_type": "markdown",
   "source": [
    "### Задание 23\n",
    "Напиши код на Python, который удаляет все четные числа из списка.\n",
    "В результате сформируй новый список"
   ],
   "metadata": {
    "collapsed": false
   },
   "id": "38aac1f155c9bbc8"
  },
  {
   "cell_type": "code",
   "execution_count": null,
   "id": "6292f09c-1952-4d4f-a6d5-a63038745f70",
   "metadata": {},
   "outputs": [],
   "source": [
    "# Место для решения"
   ]
  },
  {
   "cell_type": "markdown",
   "source": [
    "### Задание 24\n",
    "Добавь 5-6 значений в свой словарь. Что делает метод update()"
   ],
   "metadata": {
    "collapsed": false
   },
   "id": "33be883724db47c2"
  },
  {
   "cell_type": "code",
   "execution_count": null,
   "id": "2e1a601b-1c06-4c85-91fd-a1bbb342f371",
   "metadata": {},
   "outputs": [],
   "source": [
    "# Место для решения"
   ]
  },
  {
   "cell_type": "markdown",
   "source": [
    "### Задание 25\n",
    "Какой метод возвращает список всех ключей в словаре?"
   ],
   "metadata": {
    "collapsed": false
   },
   "id": "8fb75c6e37ce1e50"
  },
  {
   "cell_type": "code",
   "execution_count": null,
   "id": "29ac9891-b91a-4027-bfcd-b39ea9f14070",
   "metadata": {},
   "outputs": [],
   "source": [
    "# Место для решения"
   ]
  },
  {
   "cell_type": "markdown",
   "source": [
    "### Задание 26\n",
    "Какой метод удаляет пару ключ-значение из словаря?"
   ],
   "metadata": {
    "collapsed": false
   },
   "id": "ad395b96542b0619"
  },
  {
   "cell_type": "code",
   "execution_count": null,
   "id": "735b63de-569b-4ab8-8466-9ed48a7ef580",
   "metadata": {},
   "outputs": [],
   "source": [
    "# Место для решения"
   ]
  },
  {
   "cell_type": "markdown",
   "source": [
    "### Задание 27\n",
    "Какой метод возвращает список всех значений в словаре?"
   ],
   "metadata": {
    "collapsed": false
   },
   "id": "277e1bcf9a550ad7"
  },
  {
   "cell_type": "code",
   "execution_count": null,
   "id": "ce68d753-f745-4d0b-abf2-8c102160fcd8",
   "metadata": {},
   "outputs": [],
   "source": [
    "# Место для решения"
   ]
  },
  {
   "cell_type": "markdown",
   "source": [
    "### Задание 28\n",
    "Измени значения нескольких ключей. Например, было - {'name':\"Sergey\"}, стало {'first_name': \"Sergey\"}\n",
    "А затем измени значения каждого второго ключа (тоесть 1, затем 3, хатем 5 и тд)"
   ],
   "metadata": {
    "collapsed": false
   },
   "id": "ee3b90a29af1c456"
  },
  {
   "cell_type": "code",
   "execution_count": null,
   "id": "3f79af12-7347-41de-93d8-4c90409d680c",
   "metadata": {},
   "outputs": [],
   "source": [
    "# Место для решения"
   ]
  },
  {
   "cell_type": "markdown",
   "source": [
    "### Задание 29\n",
    "Напиши код на Python, который объединяет два словаря и выводит результат"
   ],
   "metadata": {
    "collapsed": false
   },
   "id": "bd9ed959e496cb21"
  },
  {
   "cell_type": "code",
   "execution_count": null,
   "id": "c196e568-419c-453d-8416-89850e63a894",
   "metadata": {},
   "outputs": [],
   "source": [
    "# Место для решения"
   ]
  },
  {
   "cell_type": "markdown",
   "source": [
    "### Задание 30\n",
    "Напиши код на Python, который создает словарь, содержащий квадраты чисел от 1 до 5 включительно"
   ],
   "metadata": {
    "collapsed": false
   },
   "id": "c26ff3e299501955"
  },
  {
   "cell_type": "code",
   "execution_count": null,
   "id": "8824cf08-e6fe-484e-bb1e-46b9cd1da1a9",
   "metadata": {},
   "outputs": [],
   "source": [
    "# Место для решения"
   ]
  },
  {
   "cell_type": "markdown",
   "source": [
    "### Задание 31\n",
    "Напиши функцию на Python, которая принимает на вход число и использует цикл while для вывода всех чисел от этого числа до 1 включительно\n",
    "Например, вы ввели 5, то результат должен получиться - 5 4 3 2 1"
   ],
   "metadata": {
    "collapsed": false
   },
   "id": "e0a97448da536607"
  },
  {
   "cell_type": "code",
   "execution_count": null,
   "id": "e9dd8323-6219-4ba5-9f0b-231bd6cac392",
   "metadata": {},
   "outputs": [],
   "source": [
    "# Место для решения"
   ]
  },
  {
   "cell_type": "markdown",
   "source": [
    "### Задание 32\n",
    "Напиши цикл while который принимает список и проходится по нему\n",
    "- если значение является числом то он вывод это число\n",
    "- если значение текст, то пропускает\n",
    "- если значение список, то программа погружается в этот список и проходится по нему также\n",
    "- если значение больше 100, то программа завершается\n",
    "\n",
    "Пример списка: task = [1,2,'str','text',1,[1,3,'str'],101,100]"
   ],
   "metadata": {
    "collapsed": false
   },
   "id": "164a32bdde2d682f"
  },
  {
   "cell_type": "code",
   "execution_count": null,
   "id": "f249c69e-974c-4887-9b71-464fdf7bc70c",
   "metadata": {},
   "outputs": [],
   "source": [
    "# Место для решения"
   ]
  },
  {
   "cell_type": "markdown",
   "source": [
    "### Задание 33\n",
    "Напишите код на Python, который использует цикл for для подсчета суммы всех чисел в списке.\n",
    "На вход дается список: numbers = [1, 2, 3, 4, 5]"
   ],
   "metadata": {
    "collapsed": false
   },
   "id": "7425c40faf85a946"
  },
  {
   "cell_type": "code",
   "execution_count": null,
   "id": "85263ab9-1adc-4fa8-b619-ba70773d1cdc",
   "metadata": {},
   "outputs": [],
   "source": [
    "# Место для решения"
   ]
  },
  {
   "cell_type": "markdown",
   "source": [
    "### Задание 34\n",
    "Напишите функцию на Python, которая принимает на вход строку и использует цикл while для вывода символов строки в обратном порядке."
   ],
   "metadata": {
    "collapsed": false
   },
   "id": "67e5f64fd3e61ab0"
  },
  {
   "cell_type": "code",
   "execution_count": null,
   "id": "169a2487-997d-4773-98de-487364a4ce4b",
   "metadata": {},
   "outputs": [],
   "source": [
    "# Место для решения"
   ]
  },
  {
   "cell_type": "code",
   "execution_count": null,
   "id": "50c29a2c-5604-4673-8ceb-82ed4c334b8a",
   "metadata": {},
   "outputs": [],
   "source": [
    "# Напиши функцию на Python, которая принимает на вход три аргумента \n",
    "# и возвращает их сумму и разность. (используй не print, а return)"
   ]
  },
  {
   "cell_type": "code",
   "execution_count": null,
   "id": "f8a82ea9-fbc5-4465-be04-3468cbf506fb",
   "metadata": {},
   "outputs": [],
   "source": [
    "# Напиши функцию которая считает факториал"
   ]
  },
  {
   "cell_type": "code",
   "execution_count": null,
   "id": "fbb25ab4-9ef2-4420-8158-8a70617a7fe2",
   "metadata": {},
   "outputs": [],
   "source": [
    "# Создай две функции, одна из которых возвращает результат второй функции\n",
    "# (или запускает вторую функцию)"
   ]
  },
  {
   "cell_type": "code",
   "execution_count": null,
   "id": "bbb2e32d-d194-4ef3-9081-2f3c3c7a18bb",
   "metadata": {},
   "outputs": [],
   "source": [
    "# Напиши функцию на Python, которая принимает на вход число и возвращает True, \n",
    "# если оно является четным, и False в противном случае."
   ]
  },
  {
   "cell_type": "code",
   "execution_count": null,
   "id": "4bcd8fc2-c3c6-490e-8a61-3cb8ae71d832",
   "metadata": {},
   "outputs": [],
   "source": [
    "# Напиши функцию, которая принимает строку и возвращает ее длину без пробелов\n",
    "# (может помочь метод replace)\n",
    "t = 'Hello world '"
   ]
  },
  {
   "cell_type": "code",
   "execution_count": null,
   "id": "6d9df6de-29eb-48ee-a772-7a555749a4ee",
   "metadata": {},
   "outputs": [],
   "source": [
    "# Выведи рандомные значения от 1 до 10"
   ]
  },
  {
   "cell_type": "code",
   "execution_count": null,
   "id": "138ff95d-23bb-484b-90d8-da800df9f9f5",
   "metadata": {},
   "outputs": [],
   "source": [
    "# Найди факториал через функцию math"
   ]
  },
  {
   "cell_type": "code",
   "execution_count": 7,
   "id": "cc072578-271c-4ed4-9d05-210c979c6515",
   "metadata": {},
   "outputs": [
    {
     "ename": "ZeroDivisionError",
     "evalue": "division by zero",
     "output_type": "error",
     "traceback": [
      "\u001B[1;31m---------------------------------------------------------------------------\u001B[0m",
      "\u001B[1;31mZeroDivisionError\u001B[0m                         Traceback (most recent call last)",
      "Input \u001B[1;32mIn [7]\u001B[0m, in \u001B[0;36m<cell line: 3>\u001B[1;34m()\u001B[0m\n\u001B[0;32m      1\u001B[0m \u001B[38;5;66;03m# используя try except сделай так чтобы программа ниже работала\u001B[39;00m\n\u001B[0;32m      2\u001B[0m a \u001B[38;5;241m=\u001B[39m \u001B[38;5;241m10\u001B[39m\n\u001B[1;32m----> 3\u001B[0m b \u001B[38;5;241m=\u001B[39m \u001B[38;5;241;43m10\u001B[39;49m\u001B[38;5;241;43m/\u001B[39;49m\u001B[38;5;241;43m0\u001B[39;49m\n",
      "\u001B[1;31mZeroDivisionError\u001B[0m: division by zero"
     ]
    }
   ],
   "source": [
    "# используя try except сделай так чтобы программа ниже работала\n",
    "a = 10\n",
    "b = 10/0"
   ]
  },
  {
   "cell_type": "code",
   "execution_count": null,
   "id": "5cb80e5f-9700-4c02-abc4-625ca827236a",
   "metadata": {},
   "outputs": [],
   "source": [
    "# как работает метод format? Возьми любую переменную и выведи с помощью format текст"
   ]
  },
  {
   "cell_type": "code",
   "execution_count": null,
   "id": "128cc017-cb06-4faf-899a-313863974cdc",
   "metadata": {},
   "outputs": [],
   "source": [
    "# Напиши код, который принимает число и проверяет входит ли он в диапазон значений:\n",
    "# больше 3 и меньше 56 или между -24 и -1. Если число равно 0, то нужно попросить ввести число заново"
   ]
  },
  {
   "cell_type": "code",
   "execution_count": 8,
   "id": "7387c758-f760-4ca0-81cf-9ea35d1a5fe9",
   "metadata": {},
   "outputs": [],
   "source": [
    "# как высчитать время выполнения программы? Приведи пример"
   ]
  },
  {
   "cell_type": "code",
   "execution_count": null,
   "id": "4f99550f-d04b-45f8-b90d-922e5595e811",
   "metadata": {},
   "outputs": [],
   "source": [
    "# На вход подается 4 числа: кол учеников, минимальное кол конфет для каждого, \n",
    "# максимальное кол конфет для каждого и всего конфет\n",
    "# Напиши программу, которая разделит поровну конфеты между всеми учениками и выведи это число. \n",
    "# При этом если кол кофет на одного ученика меньше минимального или больше максимального значения, то нужно вывести сколько конфет не хватает или в избытке\n",
    "\n",
    "# Пример 1: 5, 10, 15, 100. Каждый должен получить по 20 конфет, но это больше максимального, тогда выводим 15 каждому и говорим что в избытке 25 конфет\n",
    "# Пример 2: 5, 10, 5, 100. Вывод: \"максимальное кол не может быть меньше минимального\"\n",
    "# Пример 3: 5, 5, 10, 50. Вывод: Каждому по 10"
   ]
  },
  {
   "cell_type": "code",
   "execution_count": null,
   "id": "82fb2823-7351-4658-85b0-73b48d2acabc",
   "metadata": {},
   "outputs": [],
   "source": [
    "# Напиши код, который избавляет первый список от элементов присутствующих во втором "
   ]
  }
 ],
 "metadata": {
  "kernelspec": {
   "display_name": "Python 3 (ipykernel)",
   "language": "python",
   "name": "python3"
  },
  "language_info": {
   "codemirror_mode": {
    "name": "ipython",
    "version": 3
   },
   "file_extension": ".py",
   "mimetype": "text/x-python",
   "name": "python",
   "nbconvert_exporter": "python",
   "pygments_lexer": "ipython3",
   "version": "3.9.12"
  }
 },
 "nbformat": 4,
 "nbformat_minor": 5
}
