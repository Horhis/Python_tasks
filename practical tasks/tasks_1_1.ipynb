{
 "cells": [
  {
   "cell_type": "markdown",
   "metadata": {},
   "source": [
    "# Задачи для лекций по темам числа, логические типы данных, переменные и логические конструкции"
   ]
  },
  {
   "cell_type": "markdown",
   "metadata": {},
   "source": [
    "## Задача 1.1\n",
    "\n",
    "Обозначьте порядок вычисления выражения по операциям:\n",
    "11 * 2 ** 2 – 13 / 4 + 7.\n",
    "\n",
    "Какой будет ответ?\n",
    "Какое целое число получается?\n"
   ]
  },
  {
   "cell_type": "code",
   "execution_count": 25,
   "metadata": {},
   "outputs": [
    {
     "name": "stdout",
     "output_type": "stream",
     "text": [
      "47.75\n"
     ]
    },
    {
     "data": {
      "text/plain": [
       "48"
      ]
     },
     "execution_count": 25,
     "metadata": {},
     "output_type": "execute_result"
    }
   ],
   "source": [
    "print(11*2**2-13/4+7)\n",
    "round(11*2**2-13/4+7)"
   ]
  },
  {
   "cell_type": "markdown",
   "metadata": {},
   "source": [
    "## Задача 1.2\n",
    "\n",
    "Используя стандартные арифметические операции получите наибольшее число в результате комбинации цифр 4, 6 3"
   ]
  },
  {
   "cell_type": "code",
   "execution_count": 23,
   "metadata": {},
   "outputs": [
    {
     "data": {
      "text/plain": [
       "19438347051575930593026637277464327123266958586038369937823081254224453278630252497889372715554605593282381159872094158595095268067402968819922058060551822238741112165184374168564842547377441712304718992557393039038068650790181662446618501807237815659967187794033032803500035732383779283962952457019941126317411288547298348393098492554260561270997109425187315296683000918052454625638849801275961486965984453943973091802013130902022480064009582344873235465674303023321390779804986857735192246409512396859725643331241004565363356447570421115052411463010710895821609990116581002342162299225771869569017520145772647959223587680923278063396420933182948493511315641718579755044437441435175740859842860053607410165012361020931202956648767463066402467873454067221827562969068586208309387212456515799198207666199100272945024205012536374239885475968620882340375145207974046250462049126376560527290449130131440049788901462599304866873205740965010110139132541314345764876189581440737408106418855697237772150397259001202610130643763522631178062380060118593870971595168515254708733434522944375449004769094553723966227387818112951763132792281368178696361699983006097111869296586184614483820710005212223076649640648680453168817055219121408137639068898013300964241873653031196757067256269494984584288619038952494840890585035037799939467208769356259970350911013289050848552248531637772378630974861351496031252497009626563341895925393417896721361397607975167965296260228765252019053692679530118811766299692563834399397255178641804981662398606198713407736666476041324967934194436339007404569332651584643092199985299610486183872564728311389752139542321950489431449936370044181920096335116574849401654651260886859807973366610174486966928282281448812271499242148110214706385942214916820701400716027195159400919830048720354640368632751312692913386133718693853550810552709435439109936878872272169754302271563047123599935593148473062504803871685643230134991892294944498425472696321"
      ]
     },
     "execution_count": 23,
     "metadata": {},
     "output_type": "execute_result"
    }
   ],
   "source": [
    "# Поле для решения задачи \n",
    "3**4**6"
   ]
  },
  {
   "cell_type": "markdown",
   "metadata": {},
   "source": [
    "## Задача 1.3\n",
    "\n",
    "Решить пример:  \n",
    "\n",
    "37052.28 : 76 − 49.03"
   ]
  },
  {
   "cell_type": "code",
   "execution_count": 6,
   "metadata": {},
   "outputs": [
    {
     "data": {
      "text/plain": [
       "438.5"
      ]
     },
     "execution_count": 6,
     "metadata": {},
     "output_type": "execute_result"
    }
   ],
   "source": [
    "# Поле для решения задачи\n",
    "37052.28/76-49.03"
   ]
  },
  {
   "cell_type": "markdown",
   "metadata": {},
   "source": [
    "## Задача 1.4\n",
    "\n",
    "запишите число Эйлера (2.718281828459045) в экспоненциальной форме "
   ]
  },
  {
   "cell_type": "code",
   "execution_count": 36,
   "metadata": {},
   "outputs": [
    {
     "name": "stdout",
     "output_type": "stream",
     "text": [
      "2.718281828459045\n"
     ]
    },
    {
     "data": {
      "text/plain": [
       "2.718281828459045"
      ]
     },
     "execution_count": 36,
     "metadata": {},
     "output_type": "execute_result"
    }
   ],
   "source": [
    "# Поле для решения задачи\n",
    "import math\n",
    "print(math.e)\n",
    "2718281828459045e-15"
   ]
  },
  {
   "cell_type": "markdown",
   "metadata": {},
   "source": [
    "## Задача 1.5\n",
    "\n",
    "Запишите число 3141592e-6 в виде десятичной дроби и проверьте равны ли они"
   ]
  },
  {
   "cell_type": "code",
   "execution_count": 15,
   "metadata": {},
   "outputs": [
    {
     "data": {
      "text/plain": [
       "3.141695"
      ]
     },
     "execution_count": 15,
     "metadata": {},
     "output_type": "execute_result"
    }
   ],
   "source": [
    "# Поле для решения задачи\n",
    "3141695e-6"
   ]
  },
  {
   "cell_type": "markdown",
   "metadata": {},
   "source": [
    "## Задача 1.6\n",
    "\n",
    "Решите пример: 6 ** 16 - int(float(6 ** 16)). Какой получили ответ и какой ответ должен был получиться?"
   ]
  },
  {
   "cell_type": "code",
   "execution_count": 7,
   "metadata": {},
   "outputs": [
    {
     "data": {
      "text/plain": [
       "0"
      ]
     },
     "execution_count": 7,
     "metadata": {},
     "output_type": "execute_result"
    }
   ],
   "source": [
    "# Поле для решения задачи\n",
    "6**16-int(float(6**16))"
   ]
  },
  {
   "cell_type": "markdown",
   "metadata": {},
   "source": [
    "## Задача 1.7\n",
    "\n",
    "Решите пример: 0.1 + 0.2. Проверьте, равен ли результат 0.3"
   ]
  },
  {
   "cell_type": "code",
   "execution_count": 8,
   "metadata": {},
   "outputs": [
    {
     "data": {
      "text/plain": [
       "0.30000000000000004"
      ]
     },
     "execution_count": 8,
     "metadata": {},
     "output_type": "execute_result"
    }
   ],
   "source": [
    "# Поле для решения задачи\n",
    "0.1+0.2"
   ]
  },
  {
   "cell_type": "markdown",
   "metadata": {},
   "source": [
    "## Задача 1.8\n",
    "\n",
    "Решить логарифмическое уравнение: \n",
    "log5(5 - x) = 2 log5(3)"
   ]
  },
  {
   "cell_type": "code",
   "execution_count": null,
   "metadata": {},
   "outputs": [],
   "source": []
  },
  {
   "cell_type": "markdown",
   "metadata": {},
   "source": [
    "## Задача 1.9\n",
    "\n",
    "Найти объем конуса с pi = 3,14 и pi из библиотеки math, и сравнить результаты. R = 10, h = 8"
   ]
  },
  {
   "cell_type": "code",
   "execution_count": 31,
   "metadata": {},
   "outputs": [
    {
     "data": {
      "text/plain": [
       "83.73333333333333"
      ]
     },
     "execution_count": 31,
     "metadata": {},
     "output_type": "execute_result"
    }
   ],
   "source": [
    "# Поле для решения задачи\n",
    "import math\n",
    "1/3*math.pi*10*8\n",
    "1/3*3.14*10*8"
   ]
  },
  {
   "cell_type": "markdown",
   "metadata": {},
   "source": [
    "## Задача 1.10  \n",
    "Дано 2 скрипта. Запустите оба, в каком возникает ошибка? Объясните почему\n",
    "\n",
    "Скрипт 1.\n",
    "a = None  \n",
    "if len(a) > 0 and a is not None:\n",
    "<p style=\"margin-left: 20px\">print('Это не None')</p>\n",
    "\n",
    "Скрипт 2.  \n",
    "a = None  \n",
    "if a is not None and len(a) > 0:  \n",
    "<p style=\"margin-left: 20px\">print('Это не None')</p>"
   ]
  },
  {
   "cell_type": "code",
   "execution_count": 28,
   "metadata": {},
   "outputs": [],
   "source": [
    "# Поле для решения задачи\n",
    "a = None\n",
    "if a is not None and len(a) > 0:\n",
    "    print(\"Это не None\")"
   ]
  },
  {
   "cell_type": "markdown",
   "metadata": {},
   "source": [
    "## Задача 1.11\n",
    "\n",
    "Написать программу, проверяющую выполнение условия для введённого пользователем числа.  \n",
    "Условия:  \n",
    "(-∞, -10] U [-5, 5] U (2, +∞)"
   ]
  },
  {
   "cell_type": "code",
   "execution_count": null,
   "metadata": {},
   "outputs": [
    {
     "name": "stdin",
     "output_type": "stream",
     "text": [
      " 10\n"
     ]
    },
    {
     "name": "stdout",
     "output_type": "stream",
     "text": [
      "da\n"
     ]
    }
   ],
   "source": [
    "# Поле для решения задачи\n",
    "a=int(input())\n",
    "if (a<=-10) or (a>=-5 and a<=5) or (a>2):\n",
    "      print (\"da\")"
   ]
  },
  {
   "cell_type": "markdown",
   "metadata": {},
   "source": [
    "## Задача 1.12 \\*\n",
    "\n",
    "Напишите программу, которая будет принимать аргументы и реализовывать алгоритм угадывания даты рождения и возраста: http://www.scanword.net/focus/124.htm"
   ]
  },
  {
   "cell_type": "code",
   "execution_count": 12,
   "metadata": {},
   "outputs": [],
   "source": [
    "# Поле для решения задачи"
   ]
  },
  {
   "cell_type": "markdown",
   "metadata": {},
   "source": [
    "## Задача 1.13 \\*\n",
    "\n",
    "Напишите программу для определения какой пиццы больше: двух средних или одной большей или они равны (пользователь сам задаёт диаметр каждого типа пиццы)\n"
   ]
  },
  {
   "cell_type": "code",
   "execution_count": 26,
   "metadata": {},
   "outputs": [
    {
     "name": "stdin",
     "output_type": "stream",
     "text": [
      "введите радиус большой пиццы 20\n",
      "введите радиус средней пиццы 15\n"
     ]
    },
    {
     "name": "stdout",
     "output_type": "stream",
     "text": [
      "Бери две средних\n"
     ]
    }
   ],
   "source": [
    "# Поле для решения задачи\n",
    "import math\n",
    "r1 = int(input (\"введите радиус большой пиццы\"))\n",
    "r2 = int(input (\"введите радиус средней пиццы\"))\n",
    "if (math.pi*r1**2) > (2*math.pi*r2**2):\n",
    "    print(\"Бери одну большую\")\n",
    "else:\n",
    "    print(\"Бери две средних\")"
   ]
  },
  {
   "cell_type": "code",
   "execution_count": null,
   "metadata": {},
   "outputs": [],
   "source": []
  },
  {
   "cell_type": "code",
   "execution_count": null,
   "metadata": {},
   "outputs": [],
   "source": []
  }
 ],
 "metadata": {
  "kernelspec": {
   "display_name": "Python 3 (ipykernel)",
   "language": "python",
   "name": "python3"
  },
  "language_info": {
   "codemirror_mode": {
    "name": "ipython",
    "version": 3
   },
   "file_extension": ".py",
   "mimetype": "text/x-python",
   "name": "python",
   "nbconvert_exporter": "python",
   "pygments_lexer": "ipython3",
   "version": "3.9.7"
  }
 },
 "nbformat": 4,
 "nbformat_minor": 4
}
