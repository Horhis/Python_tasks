{
 "cells": [
  {
   "cell_type": "markdown",
   "metadata": {},
   "source": [
    "# Задача 1"
   ]
  },
  {
   "cell_type": "markdown",
   "metadata": {},
   "source": [
    "# Поле для решения\n",
    "\n",
    "Представьте список в обратном порядке\n",
    "\n",
    "[2,4,'string', 'another_string', 3.29, 22]"
   ]
  },
  {
   "cell_type": "code",
   "execution_count": 8,
   "metadata": {},
   "outputs": [
    {
     "name": "stdout",
     "output_type": "stream",
     "text": [
      "[22, 3.29, 'another_string', 'string', 4, 2]\n"
     ]
    }
   ],
   "source": [
    "# Место для решения\n",
    "list1= [2,4,'string', 'another_string', 3.29, 22]\n",
    "list1.reverse()\n",
    "print (list1)"
   ]
  },
  {
   "cell_type": "markdown",
   "metadata": {},
   "source": [
    "# Задача 2\n",
    "\n",
    "Дан список ['A', 'T', 'G', 'C', 'T', 'G', 'C', 'A', 'T', 'G', 'G', 'G', 'C', 'A', 'G', 'C', 'T', 'T', 'T', 'T', 'A', 'G', 'C', 'G', 'A']\n",
    ". Замените в нем 1 символ на последний, а последний на первый"
   ]
  },
  {
   "cell_type": "code",
   "execution_count": 11,
   "metadata": {},
   "outputs": [
    {
     "name": "stdout",
     "output_type": "stream",
     "text": [
      "['A', 'T', 'G', 'C', 'T', 'G', 'C', 'A', 'T', 'G', 'G', 'G', 'C', 'A', 'G', 'C', 'T', 'T', 'T', 'T', 'A', 'G', 'C', 'G', '-A']\n"
     ]
    }
   ],
   "source": [
    "# Место для решения\n",
    "list1 = ['-A', 'T', 'G', 'C', 'T', 'G', 'C', 'A', 'T', 'G', 'G', 'G', 'C', 'A', 'G', 'C', 'T', 'T', 'T', 'T', 'A', 'G', 'C', 'G', 'A']\n",
    "letter1 = list1.pop(0)\n",
    "letter_last = list1.pop(-1)\n",
    "list1.append(letter1)\n",
    "list1.insert(0, letter_last)\n",
    "print (list1)"
   ]
  },
  {
   "cell_type": "markdown",
   "metadata": {},
   "source": [
    "# Задача 3\n",
    "\n",
    "Примите от пользователя 4 строки. Если длина строки больше 5 символов, поместите ее в список1, а если меньше то в список2. Выведите в конце оба списка"
   ]
  },
  {
   "cell_type": "code",
   "execution_count": 2,
   "metadata": {},
   "outputs": [
    {
     "name": "stdin",
     "output_type": "stream",
     "text": [
      "Введите список строк, разделенных пробелом:  1234567sdfg fghj 34567 hjkl\n"
     ]
    },
    {
     "name": "stdout",
     "output_type": "stream",
     "text": [
      "['1234567sdfg'] ['fghj', '34567', 'hjkl']\n"
     ]
    }
   ],
   "source": [
    "# Место для решения\n",
    "list1 = []\n",
    "list2 = []\n",
    "string1 = input(\"Введите список строк, разделенных пробелом: \").split()\n",
    "for i in string1:\n",
    "    if len(i) > 5:\n",
    "        list1.append(i)\n",
    "    else:\n",
    "        list2.append(i)\n",
    "print (list1, list2)"
   ]
  },
  {
   "cell_type": "markdown",
   "metadata": {},
   "source": [
    "# Задача 4\n",
    "\n",
    "На вход принимает кортеж и случайный элемент. Требуется вернуть новый кортеж, начинающийся с первого появления элемента в нем и заканчивающийся вторым его появлением включительно.\n",
    "Если элемента нет вовсе – вернуть пустой кортеж.\n",
    "Если элемент встречается только один раз, то вернуть кортеж, который начинается с него и идет до конца исходного."
   ]
  },
  {
   "cell_type": "code",
   "execution_count": 27,
   "metadata": {},
   "outputs": [
    {
     "name": "stdout",
     "output_type": "stream",
     "text": [
      "2 1\n",
      "2 4\n"
     ]
    }
   ],
   "source": [
    "# Место для решения\n",
    "tup = (1, 2, 3, 1, 4, 2, 5, 2, 5)\n",
    "s = 2\n",
    "tup_list = list(tup)\n",
    "first_ind = tup_list.index(s)\n",
    "poped_item1 = tup_list.pop(first_ind)\n",
    "print(poped_item1,first_ind)\n",
    "second_ind = tup_list.index(s)\n",
    "poped_item2 = tup_list.pop(second_ind)\n",
    "print(poped_item2,second_ind)\n"
   ]
  },
  {
   "cell_type": "markdown",
   "metadata": {},
   "source": [
    "# Задача 5\n",
    "\n",
    "На вход кортеж и элемент. Задача сделать так, чтобы удалять первое появление определенного элемента из кортежа по значению и возвращать кортеж без этого элемента. Если элемента в кортеже нет, кортеж надо вернуть в исходном виде\n",
    "\n"
   ]
  },
  {
   "cell_type": "code",
   "execution_count": 22,
   "metadata": {},
   "outputs": [
    {
     "name": "stdout",
     "output_type": "stream",
     "text": [
      "['werstyugihjopkjo;gfldtksrjs', 'iuyutsrtdfg', 'uiyuitydudtf']\n",
      "1\n",
      "['werstyugihjopkjo;gfldtksrjs', 'uiyuitydudtf']\n"
     ]
    }
   ],
   "source": [
    "# Место для решения\n",
    "tup = ('werstyugihjopkjo;gfldtksrjs', 'iuyutsrtdfg', 'uiyuitydudtf')\n",
    "x = 'iuyutsrtdfg'\n",
    "tup2 = list(tup)\n",
    "y = tup2.index(x)\n",
    "print(tup2)\n",
    "print(y)\n",
    "tup2.remove(x)\n",
    "print(tup2)\n",
    "    "
   ]
  },
  {
   "cell_type": "markdown",
   "metadata": {},
   "source": [
    "# Задача 6\n",
    "\n",
    "На вход подается строка, преобразовать ее в множество и сравнить длину исходной строки и новой"
   ]
  },
  {
   "cell_type": "code",
   "execution_count": 4,
   "metadata": {},
   "outputs": [
    {
     "name": "stdout",
     "output_type": "stream",
     "text": [
      "6rstfxcgiyetysfxhgcjhfyletsyfxhgchfiyrukdtghx\n",
      "ucykfrgxhil6sedtj\n"
     ]
    }
   ],
   "source": [
    "# Место для решения\n",
    "strochka = '6rstfxcgiyetysfxhgcjhfyletsyfxhgchfiyrukdtghx'\n",
    "stroch = set(strochka)\n",
    "stroch =''.join(stroch)\n",
    "print(strochka)\n",
    "print(stroch)"
   ]
  },
  {
   "cell_type": "markdown",
   "metadata": {},
   "source": [
    "# Задача 7\n",
    "\n",
    "Передаются 3 строки. Необходимо получить только уникальные элементы из этих строк"
   ]
  },
  {
   "cell_type": "code",
   "execution_count": 6,
   "metadata": {},
   "outputs": [
    {
     "name": "stdout",
     "output_type": "stream",
     "text": [
      "ucyrxaivswetk\n"
     ]
    }
   ],
   "source": [
    "# Место для решения\n",
    "str1 = 'caekyrruxrawecvk'\n",
    "str2 = 'ertvsrtuwcewxacsvyri'\n",
    "str3 = 'evtyrvtsrecetwe'\n",
    "strochella = str1+str2+str3\n",
    "strochella = set(strochella)\n",
    "strochella = ''.join(strochella)\n",
    "print(strochella)"
   ]
  },
  {
   "cell_type": "markdown",
   "metadata": {},
   "source": [
    "# Задача 9\n",
    "\n",
    "У вас есть аминокислотная последовательность: QVQLQESGGGLVQAGGSLRLSCAASGRTFSSTGHTFSSYAMGWFRQTPGKEREFVAAISWSGTSTYYADSVKGRFTISRDNAKNTVYLQMNSLKPEDTAVYYCAARFWDYGLGSSDLKSPREYDYWGQGTQVTVSS. На данный момент выделяют 20 аминокислот (хотя некоторые биохимики выделяют до 22 аминокислот). Проверьте, все ли аминокислоты присутсвуют в этой последовательности?"
   ]
  },
  {
   "cell_type": "code",
   "execution_count": 24,
   "metadata": {},
   "outputs": [
    {
     "name": "stdout",
     "output_type": "stream",
     "text": [
      "20\n"
     ]
    }
   ],
   "source": [
    "# Место для решения\n",
    "s = 'QVQLQESGGGLVQAGGSLRLSCAASGRTFSSTGHTFSSYAMGWFRQTPGKEREFVAAISWSGTSTYYADSVKGRFTISRDNAKNTVYLQMNSLKPEDTAVYYCAARFWDYGLGSSDLKSPREYDYWGQGTQVTVSS'\n",
    "s = set(s)\n",
    "print(len(s))"
   ]
  },
  {
   "cell_type": "code",
   "execution_count": null,
   "metadata": {},
   "outputs": [],
   "source": []
  }
 ],
 "metadata": {
  "kernelspec": {
   "display_name": "Python 3 (ipykernel)",
   "language": "python",
   "name": "python3"
  },
  "language_info": {
   "codemirror_mode": {
    "name": "ipython",
    "version": 3
   },
   "file_extension": ".py",
   "mimetype": "text/x-python",
   "name": "python",
   "nbconvert_exporter": "python",
   "pygments_lexer": "ipython3",
   "version": "3.9.7"
  }
 },
 "nbformat": 4,
 "nbformat_minor": 4
}
