{
 "cells": [
  {
   "cell_type": "markdown",
   "metadata": {},
   "source": [
    "# Задача 1\n",
    "\n",
    "Напишите функцию, которая принимает 2 числа, start и end. Функция суммирует все целые числа от значения «start» до «end» включительно. Если пользователь задаст star больше stop, необходимо их поменять местами. Функция должна вернуть результат суммирования."
   ]
  },
  {
   "cell_type": "code",
   "execution_count": 16,
   "metadata": {},
   "outputs": [
    {
     "data": {
      "text/plain": [
       "10"
      ]
     },
     "execution_count": 16,
     "metadata": {},
     "output_type": "execute_result"
    }
   ],
   "source": [
    "# Место для решения\n",
    "def func_sum_of_gap(start, stop):\n",
    "    if start > stop:\n",
    "        summa = sum(range(stop, start+1))\n",
    "    else:\n",
    "        summa = sum(range(start,stop+1))\n",
    "    return summa\n",
    "func_sum_of_gap(4, 1)"
   ]
  },
  {
   "cell_type": "markdown",
   "metadata": {},
   "source": [
    "# Задача 2\n",
    "\n",
    "Напишите функцию, которая будет принимать любое количество строк. Функция должна найти самую длинную строку из всех и затем сравнить ее с остальными и вернуть строку, состоящую из уникальных только для нее символов."
   ]
  },
  {
   "cell_type": "code",
   "execution_count": 85,
   "metadata": {},
   "outputs": [
    {
     "data": {
      "text/plain": [
       "'knshcmjxzfgbdv'"
      ]
     },
     "execution_count": 85,
     "metadata": {},
     "output_type": "execute_result"
    }
   ],
   "source": [
    "# Место для решения\n",
    "def func_longest_string(*strings):\n",
    "    maxi = ''\n",
    "    lenas = []\n",
    "    for i in strings:\n",
    "        lenas.append(i)\n",
    "        if len(i) > len(maxi):\n",
    "            maxi = i\n",
    "    lenas.remove(maxi)\n",
    "    lenas = set(lenas)\n",
    "    maxi = set(maxi)\n",
    "    lena_new = maxi - lenas\n",
    "    lena_new = list(lena_new)\n",
    "    lena_new = ''.join(lena_new)\n",
    "    return lena_new\n",
    "func_longest_string('zxcvbnmsdfgxssshjk', 'asdasd', 'asdas', '123d21')\n"
   ]
  },
  {
   "cell_type": "markdown",
   "metadata": {},
   "source": [
    "# Задача 3\n",
    "\n",
    "Напишите функцию, которая будет принимать на вход список из цифр. После этого, функция должна объеденить первый элемент с последним и добавить их в список, затем сложить второй и предпоследний и также добавить их в список и так до момента, пока не будет пройден весь список. Если в списке нечетное количество элементов, то последний оставшийся элемент надо возвести в степень и также добавить в список"
   ]
  },
  {
   "cell_type": "code",
   "execution_count": 105,
   "metadata": {},
   "outputs": [
    {
     "data": {
      "text/plain": [
       "[12, 11, 53, 51, 3, 2, 5, 6, 2, 14, 17, 58, 53, 9]"
      ]
     },
     "execution_count": 105,
     "metadata": {},
     "output_type": "execute_result"
    }
   ],
   "source": [
    "# Место для решения\n",
    "def easiest_func(s):\n",
    "    s = [12, 11, 53, 51, 3, 2, 5, 6, 2]\n",
    "    s_next = []\n",
    "    back = -1\n",
    "    if len(s) % 2 == 0:\n",
    "        for i in range (len(s)//2):\n",
    "            s_next.append(s[i]+s[back])\n",
    "            back -= 1\n",
    "    else:\n",
    "        while back >= (-(len(s)//2)):\n",
    "            for i in range (len(s)//2):\n",
    "                s_next.append(s[i]+s[back])\n",
    "                back -= 1\n",
    "            s_next.append((s[back])**2)\n",
    "    s.extend(s_next)\n",
    "    return s\n",
    "easiest_func(s)"
   ]
  },
  {
   "cell_type": "markdown",
   "metadata": {},
   "source": [
    "# Задача 4\n",
    "\n",
    "Напишите 2 функции. Обе принимают 2 аргумента-числа. Первая функция возводит 1 число в степень второго и делит на их сумму, а затем возвращает этот результат. Вторая функция, возводит 2 число в степень 1 и делит на их разность и также возвращает результат. Запиши код таким образом, чтобы передать этим функциям одновременно одинаковые аргументы и получить сумму результатов работы этих функций."
   ]
  },
  {
   "cell_type": "code",
   "execution_count": null,
   "metadata": {},
   "outputs": [],
   "source": [
    "# Место для решения"
   ]
  },
  {
   "cell_type": "markdown",
   "metadata": {},
   "source": [
    "# Задача 5\n",
    "\n",
    "У вас имеется словарь nucleotides = {A:19, T:31, G:27, C:14} в котором перечислен нуклетидный состав какой-то последовательности. Необоходимо отсортировать значения по убыванию (от наибольшего к меньшему) "
   ]
  },
  {
   "cell_type": "code",
   "execution_count": null,
   "metadata": {},
   "outputs": [],
   "source": [
    "# Место для решения\n"
   ]
  },
  {
   "cell_type": "markdown",
   "metadata": {},
   "source": [
    "# Задача 6\n",
    "\n",
    "Прочитайте из fasta файла нуклеотидную последовательность и превратите ее в одну строку без специальных символов переносов с использованием функции-генератора. (В качестве файла возьмите wombat_mit.fasta)"
   ]
  },
  {
   "cell_type": "code",
   "execution_count": 5,
   "metadata": {},
   "outputs": [],
   "source": [
    "# Место для решения\n",
    "\n",
    "    \n"
   ]
  }
 ],
 "metadata": {
  "kernelspec": {
   "display_name": "Python 3 (ipykernel)",
   "language": "python",
   "name": "python3"
  },
  "language_info": {
   "codemirror_mode": {
    "name": "ipython",
    "version": 3
   },
   "file_extension": ".py",
   "mimetype": "text/x-python",
   "name": "python",
   "nbconvert_exporter": "python",
   "pygments_lexer": "ipython3",
   "version": "3.9.7"
  }
 },
 "nbformat": 4,
 "nbformat_minor": 4
}
