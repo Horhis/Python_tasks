{
 "cells": [
  {
   "cell_type": "markdown",
   "metadata": {},
   "source": [
    "# Задача 1\n",
    "Код принимает какой-то список. Необходимо преобразовать это список в словарь таким образом, чтобы для каждого элемента списка ключом и значением был этот элемент"
   ]
  },
  {
   "cell_type": "code",
   "execution_count": 25,
   "metadata": {},
   "outputs": [
    {
     "data": {
      "text/plain": [
       "dict_items([(0, 1), (1, 2)])"
      ]
     },
     "execution_count": 25,
     "metadata": {},
     "output_type": "execute_result"
    }
   ],
   "source": [
    "# Решение задача\n",
    "list_1 = [1, 2]\n",
    "dict_1 = {}\n",
    "dict_1.update([(0, 1), (1, 2)]) \n",
    "dict_1.items()\n"
   ]
  },
  {
   "cell_type": "markdown",
   "metadata": {},
   "source": [
    "# Задача 2\n",
    "Дана последовательность ATTTCATTTAGGGGGCCGCAATATCGGCGATCATGCAT. Записать в словарь общую длину последовательности и количество каждого нуклеотида в ней."
   ]
  },
  {
   "cell_type": "code",
   "execution_count": 24,
   "metadata": {},
   "outputs": [
    {
     "data": {
      "text/plain": [
       "dict_items([('длина', 38), ('A', 9), ('T', 11), ('G', 10), ('C', 8)])"
      ]
     },
     "execution_count": 24,
     "metadata": {},
     "output_type": "execute_result"
    }
   ],
   "source": [
    "# Решение задача\n",
    "string_1 = ('ATTTCATTTAGGGGGCCGCAATATCGGCGATCATGCAT')\n",
    "length = len(string_1)\n",
    "first_dict = {}\n",
    "first_dict.update([('длина', length), ('A', string_1.count('A')), ('T', string_1.count('T')), ('G', string_1.count('G')), ('C', string_1.count('C'))])\n",
    "first_dict.items()"
   ]
  },
  {
   "cell_type": "markdown",
   "metadata": {},
   "source": [
    "# Задача 3\n",
    "\n",
    "Создайте словарь генетического кода. Объясните, какой вариант вы выбрали и почему?"
   ]
  },
  {
   "cell_type": "code",
   "execution_count": null,
   "metadata": {},
   "outputs": [],
   "source": [
    "# Решение задача"
   ]
  }
 ],
 "metadata": {
  "kernelspec": {
   "display_name": "Python 3 (ipykernel)",
   "language": "python",
   "name": "python3"
  },
  "language_info": {
   "codemirror_mode": {
    "name": "ipython",
    "version": 3
   },
   "file_extension": ".py",
   "mimetype": "text/x-python",
   "name": "python",
   "nbconvert_exporter": "python",
   "pygments_lexer": "ipython3",
   "version": "3.9.7"
  }
 },
 "nbformat": 4,
 "nbformat_minor": 4
}
