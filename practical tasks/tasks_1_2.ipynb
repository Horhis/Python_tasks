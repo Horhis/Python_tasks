{
 "cells": [
  {
   "cell_type": "markdown",
   "metadata": {},
   "source": [
    "# Задачи для лекций по теме строки"
   ]
  },
  {
   "cell_type": "markdown",
   "metadata": {},
   "source": [
    "## Задача 1.1\n",
    "Сравнить строки: '12304'  и '234'. Как из них больше?\n"
   ]
  },
  {
   "cell_type": "code",
   "execution_count": 1,
   "metadata": {},
   "outputs": [
    {
     "name": "stdout",
     "output_type": "stream",
     "text": [
      "234\n"
     ]
    }
   ],
   "source": [
    "# Поле для решения задачи\n",
    "str1='12304'\n",
    "str2='234'\n",
    "if str1 > str2:\n",
    "    print (str1)\n",
    "else:\n",
    "    print (str2)"
   ]
  },
  {
   "cell_type": "markdown",
   "metadata": {},
   "source": [
    "## Задача 1.2\n",
    "Переводчик с русского на выдуманный прусский: принимается предложение. Необхиодимо каждому слову в предложении прибавить в начале букву п"
   ]
  },
  {
   "cell_type": "code",
   "execution_count": 14,
   "metadata": {},
   "outputs": [
    {
     "name": "stdin",
     "output_type": "stream",
     "text": [
      " sda das d dsad asd\n"
     ]
    },
    {
     "name": "stdout",
     "output_type": "stream",
     "text": [
      "пsda пdas пd пdsad пasd\n"
     ]
    }
   ],
   "source": [
    "# Поле для решения задачи\n",
    "text=str(input())\n",
    "text=text.replace(' ',' п')\n",
    "text='п'+text\n",
    "print (text)"
   ]
  },
  {
   "cell_type": "markdown",
   "metadata": {},
   "source": [
    "## Задача 1.3\n",
    "\n",
    "Провекрка строки: Проверьте, начинается ли строка с заглавной буквы? Если да, то сообщите об этом, точно также проверьте, какие буквы в строке? все маленькие? Все большие? Или смешанные? Сделайте обратное преобразование, если строка состоит из маленьких букв, сделайте ее большими, если из больших - маленькими. "
   ]
  },
  {
   "cell_type": "code",
   "execution_count": 26,
   "metadata": {},
   "outputs": [
    {
     "name": "stdin",
     "output_type": "stream",
     "text": [
      " Фыв ыфв \n"
     ]
    },
    {
     "name": "stdout",
     "output_type": "stream",
     "text": [
      "Солянка, ням-ням\n"
     ]
    }
   ],
   "source": [
    "# Поле для решения задачи\n",
    "text=str(input())\n",
    "if text.isupper():\n",
    "    print ('Все буквы заглавные')\n",
    "else:\n",
    "    if text.islower():\n",
    "        print ('Все буквы маленькие')\n",
    "    else:\n",
    "        \n",
    "        elif text.istitle():\n",
    "        print ('Первная буква заглавная')\n",
    "    else:\n",
    "        print ('Солянка, ням-ням')\n",
    "        #изменить istitle"
   ]
  },
  {
   "cell_type": "markdown",
   "metadata": {},
   "source": [
    "## Задача 1.4\n",
    "\n",
    "Проверьте строку на знаки препинания. Есть ли там знаки препинания? Если нет, то сообщите об этом пользователю"
   ]
  },
  {
   "cell_type": "code",
   "execution_count": 32,
   "metadata": {},
   "outputs": [
    {
     "name": "stdin",
     "output_type": "stream",
     "text": [
      " dssad 123 gf s12\n"
     ]
    },
    {
     "name": "stdout",
     "output_type": "stream",
     "text": [
      "Без знаков препинания\n"
     ]
    }
   ],
   "source": [
    "# Поле для решения задачи\n",
    "text=str(input())\n",
    "text=text.replace(' ','')\n",
    "if text.isalnum():\n",
    "    print ('Без знаков препинания')\n",
    "else:\n",
    "    print ('Знаки препинания есть')"
   ]
  },
  {
   "cell_type": "markdown",
   "metadata": {},
   "source": [
    "## Задача 1.5\n",
    "\n",
    "Пользователем передаются 2 строки. s1 и s2. Задача - определить, какая строка длиннее и проверить, есть ли котороткая строка внутри длинной строки."
   ]
  },
  {
   "cell_type": "code",
   "execution_count": 5,
   "metadata": {},
   "outputs": [
    {
     "name": "stdin",
     "output_type": "stream",
     "text": [
      " 123456\n",
      " 234\n"
     ]
    },
    {
     "name": "stdout",
     "output_type": "stream",
     "text": [
      "первая строка длиннее\n"
     ]
    },
    {
     "data": {
      "text/plain": [
       "True"
      ]
     },
     "execution_count": 5,
     "metadata": {},
     "output_type": "execute_result"
    }
   ],
   "source": [
    "# Поле для решения задачи\n",
    "s1=str(input())\n",
    "s2=str(input())\n",
    "if (len(s1) > len(s2)):\n",
    "    print ('первая строка длиннее')\n",
    "elif (len(s2) > len(s1)):\n",
    "    print ('первая строка длиннее')\n",
    "else:\n",
    "    print ('первая строка длиннее')\n",
    "s1 in s2 or s2 in s1"
   ]
  },
  {
   "cell_type": "markdown",
   "metadata": {},
   "source": [
    "## Задача 1.6\n",
    "\n",
    "Передается 4 строки, сама строка, старт, стоп и замена. Задача найти висходной строке старт и стоп, вырезать их из исходной последовательности и вставить на это место строку-замену\n",
    "s = 'GCTGGGGGGCTATAAAAAGAGGAGGCGCAGCGGAGAGACAGAGACGGACAAAGACCAAGAGAGCGAAACC'  \n",
    "start = 'CTA'  \n",
    "end = 'CCA'  \n",
    "insert = 'CCCCGGGGCGCGGGGGCGCCCGATATACGCGCGCG'  "
   ]
  },
  {
   "cell_type": "code",
   "execution_count": 2,
   "metadata": {},
   "outputs": [
    {
     "name": "stdout",
     "output_type": "stream",
     "text": [
      "GCTGGGGGGCCCCGGGGCGCGGGGGCGCCCGATATACGCGCGCGTAAAAAGAGGAGGCGCAGCGGAGAGACAGAGACGGACAAAGACCCCGGGGCGCGGGGGCGCCCGATATACGCGCGCGAGAGAGCGAAACC\n"
     ]
    }
   ],
   "source": [
    "# Поле для решения задачи\n",
    "s = 'GCTGGGGGGCTATAAAAAGAGGAGGCGCAGCGGAGAGACAGAGACGGACAAAGACCAAGAGAGCGAAACC'\n",
    "start = 'CTA'\n",
    "end = 'CCA'\n",
    "insert = 'CCCCGGGGCGCGGGGGCGCCCGATATACGCGCGCG'\n",
    "s = s.replace(start, insert)\n",
    "s = s.replace(end, insert)\n",
    "print(s)"
   ]
  },
  {
   "cell_type": "code",
   "execution_count": null,
   "metadata": {},
   "outputs": [],
   "source": []
  }
 ],
 "metadata": {
  "kernelspec": {
   "display_name": "Python 3 (ipykernel)",
   "language": "python",
   "name": "python3"
  },
  "language_info": {
   "codemirror_mode": {
    "name": "ipython",
    "version": 3
   },
   "file_extension": ".py",
   "mimetype": "text/x-python",
   "name": "python",
   "nbconvert_exporter": "python",
   "pygments_lexer": "ipython3",
   "version": "3.9.7"
  }
 },
 "nbformat": 4,
 "nbformat_minor": 4
}
