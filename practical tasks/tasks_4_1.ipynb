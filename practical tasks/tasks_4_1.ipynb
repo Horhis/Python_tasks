{
 "cells": [
  {
   "cell_type": "markdown",
   "metadata": {},
   "source": [
    "### Задача 1\n",
    "Попробуйте модифицировать данное регулярное выражение для телефонного номера так, чтобы оно допускало отсутствие дефисов, а также кода страны и города."
   ]
  },
  {
   "cell_type": "code",
   "execution_count": 8,
   "metadata": {},
   "outputs": [
    {
     "name": "stdin",
     "output_type": "stream",
     "text": [
      " +7-985-891-89-20\n"
     ]
    },
    {
     "name": "stdout",
     "output_type": "stream",
     "text": [
      "<re.Match object; span=(0, 16), match='+7-985-891-89-20'>\n"
     ]
    }
   ],
   "source": [
    "import re\n",
    "s = str(input())\n",
    "\n",
    "regexp = re.compile('(((\\d{1}|\\+\\d{1})-\\d{3}-\\d{3}-\\d{2}-\\d{2})|(^\\d{7}$)|(^\\d{11}$)|(\\d{3}-\\d{2}-\\d{2}))')\n",
    "print(regexp.search(s))"
   ]
  },
  {
   "cell_type": "markdown",
   "metadata": {},
   "source": [
    "### Задача 2\n",
    "Напишите регулярное выражение, описывающая стоп-кодоны: UAA, UAG, UGA. Модифицируйте ваше решение задачи №6 из практических задач tasks_3_1 так, чтобы были использованы регулярные выражения"
   ]
  },
  {
   "cell_type": "code",
   "execution_count": 18,
   "metadata": {},
   "outputs": [
    {
     "ename": "IndentationError",
     "evalue": "expected an indented block (Temp/ipykernel_13120/777956521.py, line 26)",
     "output_type": "error",
     "traceback": [
      "\u001b[1;36m  File \u001b[1;32m\"C:\\Users\\User\\AppData\\Local\\Temp/ipykernel_13120/777956521.py\"\u001b[1;36m, line \u001b[1;32m26\u001b[0m\n\u001b[1;33m    #print(N, 'штук')\u001b[0m\n\u001b[1;37m                     ^\u001b[0m\n\u001b[1;31mIndentationError\u001b[0m\u001b[1;31m:\u001b[0m expected an indented block\n"
     ]
    }
   ],
   "source": [
    "# Место для решения\n",
    "import random\n",
    "import re\n",
    "list_of_dna = []\n",
    "stop_codon = re.compile('(UAA|UAG|UGA)')\n",
    "N = 0\n",
    "for i in range(30):\n",
    "    dna = ''\n",
    "    for j in range(90):\n",
    "        n = random.randint(1, 4)\n",
    "        n = str(n)\n",
    "        n = n.replace('1', 'A')\n",
    "        n = n.replace('2', 'U')\n",
    "        n = n.replace('3', 'G')\n",
    "        n = n.replace('4', 'T')\n",
    "        dna = dna+n\n",
    "    for j in range(1, 31, 3):\n",
    "        #print(stop_codon.findall(dna))\n",
    "        #if stop_codon.findall(dna):\n",
    "        #    print(s\n",
    "            \n",
    "        #    N += 1\n",
    "        #    list_of_dna.append(dna)\n",
    "        \n",
    "#print (list_of_dna)\n",
    "#print(N, 'штук')"
   ]
  },
  {
   "cell_type": "markdown",
   "metadata": {},
   "source": [
    "### Задача 3\n",
    "Напишите скрипт для поиска десятичных дробей (разделитель - .) меньше 5 в строке. Результатом выполнения программы должен быть список"
   ]
  },
  {
   "cell_type": "code",
   "execution_count": 27,
   "metadata": {},
   "outputs": [
    {
     "name": "stdout",
     "output_type": "stream",
     "text": [
      "['0,23', '0,24', '1.5', '0.11', '2 4']\n"
     ]
    }
   ],
   "source": [
    "s = '6.12 .5 12 альпака 0,23 0,24 1.5 0.11 32 4.5'\n",
    "import re\n",
    "d_d = re.compile('[0-4].[0-9]+')\n",
    "print(d_d.findall(s))\n",
    "    \n",
    "\n",
    "# Место для решения"
   ]
  },
  {
   "cell_type": "markdown",
   "metadata": {},
   "source": [
    "### Задача 4\n",
    "В результате выполнения пайплайна был получен файл assoc_tab.txt в директории lections/files_and_images. Однако вместо стандартных разделителей в нём используются последовательности пробелов произвольной длины. Напишите программу, конвертирующую данный файл в формат CSV"
   ]
  },
  {
   "cell_type": "code",
   "execution_count": 1,
   "metadata": {},
   "outputs": [],
   "source": [
    "# Место для решения"
   ]
  },
  {
   "cell_type": "markdown",
   "metadata": {},
   "source": [
    "### Задача 5\n",
    "В файле quote.txt, расположенном в директории lections/files_and_images, содержится текст. Напищите программу, выводящую ввиде списка первые три буквы каждого слова"
   ]
  },
  {
   "cell_type": "code",
   "execution_count": 1,
   "metadata": {},
   "outputs": [],
   "source": [
    "# Место для решения"
   ]
  },
  {
   "cell_type": "markdown",
   "metadata": {},
   "source": [
    "### Задача 6\n",
    "В файле quote.txt, расположенном в директории lections/files_and_images, содержится текст. Напищите программу, выводящую ввиде строки (с пробелом в качестве разделителя) все слова, начинающиеся с глассной буквы."
   ]
  },
  {
   "cell_type": "code",
   "execution_count": 1,
   "metadata": {},
   "outputs": [],
   "source": [
    "# Место для решения"
   ]
  },
  {
   "cell_type": "markdown",
   "metadata": {},
   "source": [
    "### Задача 7\n",
    "Дан файл sites.bed (в директории lections/files_and_images) вида \"имя_хромосомы\"\\t\"старт\"\\t\"конец\", содержащий координаты сайтов. Используя регулярные выражения, посчитайте среднюю длину и медиану интервала в данном файле."
   ]
  },
  {
   "cell_type": "code",
   "execution_count": 1,
   "metadata": {},
   "outputs": [],
   "source": [
    "# Место для решения"
   ]
  },
  {
   "cell_type": "markdown",
   "metadata": {},
   "source": [
    "### Задача 8\n",
    "В директории lections/files_and_images располагается файл exp_submission_dates.tab. В данном файле первая колонка содержит идентификатор эксперимента, а вторая колонка - дату публикации данных (раделитель - таб). Обратите внимание, что в файле встречаются идентификаторы двух типов: EXP###### и HEXP######. Напишите программу, которая отбирает эксперименты с идентификатором вида EXP######, опубликованные после 2016 года. Результатом выполнения программы должен быть словарь, где ключ - идентификатор эксперимента, а значение - дата публикации."
   ]
  },
  {
   "cell_type": "code",
   "execution_count": 1,
   "metadata": {},
   "outputs": [],
   "source": [
    "# Место для решения"
   ]
  }
 ],
 "metadata": {
  "kernelspec": {
   "display_name": "Python 3 (ipykernel)",
   "language": "python",
   "name": "python3"
  },
  "language_info": {
   "codemirror_mode": {
    "name": "ipython",
    "version": 3
   },
   "file_extension": ".py",
   "mimetype": "text/x-python",
   "name": "python",
   "nbconvert_exporter": "python",
   "pygments_lexer": "ipython3",
   "version": "3.9.7"
  }
 },
 "nbformat": 4,
 "nbformat_minor": 4
}
