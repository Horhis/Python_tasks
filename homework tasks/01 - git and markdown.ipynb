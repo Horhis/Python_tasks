{
 "cells": [
  {
   "cell_type": "markdown",
   "id": "7d637ff5-e1b7-43b3-aad2-c8014915d8a7",
   "metadata": {},
   "source": [
    "# Прочитать дополнительные материалы\n",
    "\n",
    "[Начало работы с Git: подробный гайд для новичков](https://javarush.ru/groups/posts/2683-nachalo-rabotih-s-git-podrobnihy-gayd-dlja-novichkov)\n",
    "\n",
    "или\n",
    "\n",
    "[Официальная документация](https://git-scm.com/book/ru/v2/)\n",
    "* глава 2 - Основы Git\n",
    "* глава 3 - Ветвление Git\n",
    "\n",
    "Git fork. Зачем нужны форки и как с ними работать\n",
    "https://webdevkin.ru/posts/raznoe/git-fork"
   ]
  },
  {
   "cell_type": "markdown",
   "id": "e6146230-2fdc-4a10-a968-b73e2567c1a9",
   "metadata": {},
   "source": [
    "# Работа с Git"
   ]
  },
  {
   "cell_type": "markdown",
   "id": "e33ac1c9-dd1d-4335-9f94-16d8a131969f",
   "metadata": {},
   "source": [
    "* создать ветку в персональном репозитории test_1\n",
    "* переключиться на эту ветку"
   ]
  },
  {
   "cell_type": "code",
   "execution_count": 14,
   "id": "70bb31ee-abf7-4648-ad1e-f9a27c3b3265",
   "metadata": {},
   "outputs": [],
   "source": [
    "# поле для решения задачи\n",
    "!git branch test_1\n",
    "!git chechout test_1"
   ]
  },
  {
   "cell_type": "markdown",
   "id": "52dc5235-9d7d-4565-b696-1775ffd2fb56",
   "metadata": {},
   "source": [
    "# Работа с Markdown\n",
    "* создать заголовки 1, 2, 3 уровня\n",
    "* создать списки\n",
    "* создать таблицу\n",
    "* вставить картинку"
   ]
  },
  {
   "cell_type": "markdown",
   "id": "82db6fef-cf19-4708-8a0d-a85c8e56e15a",
   "metadata": {},
   "source": [
    "# Title 1\n",
    "## Title 2\n",
    "### Title 3"
   ]
  },
  {
   "cell_type": "code",
   "execution_count": 3,
   "id": "5b8e2df1-f6d1-4ffa-9b2b-2c9f3d70480b",
   "metadata": {},
   "outputs": [
    {
     "ename": "SyntaxError",
     "evalue": "invalid syntax (Temp/ipykernel_6024/2040456135.py, line 2)",
     "output_type": "error",
     "traceback": [
      "\u001b[1;36m  File \u001b[1;32m\"C:\\Users\\User\\AppData\\Local\\Temp/ipykernel_6024/2040456135.py\"\u001b[1;36m, line \u001b[1;32m2\u001b[0m\n\u001b[1;33m    * добавить измененный файл в область индексирования\u001b[0m\n\u001b[1;37m               ^\u001b[0m\n\u001b[1;31mSyntaxError\u001b[0m\u001b[1;31m:\u001b[0m invalid syntax\n"
     ]
    }
   ],
   "source": [
    "# Работа с Git\n",
    "* добавить измененный файл в область индексирования\n",
    "* сделать коммит\n",
    "* перенести изменения из ветки test_1 в ветку master\n",
    "* внести изменения в персональный репозиторий на сервере"
   ]
  },
  {
   "cell_type": "markdown",
   "id": "cda292b9-2da3-4272-819e-2f3cf5f2f5f7",
   "metadata": {},
   "source": [
    "* Str 1\n",
    "* Str 2\n",
    "* Str 3"
   ]
  },
  {
   "cell_type": "markdown",
   "id": "25e7b8bf-a638-4872-94b2-e40abd1ed9a1",
   "metadata": {
    "jp-MarkdownHeadingCollapsed": true,
    "tags": []
   },
   "source": [
    "|Name|Family|State|Mark|\n",
    "|-|-|-|-| \n",
    "|George|Zuikov|Russia|5|"
   ]
  },
  {
   "cell_type": "markdown",
   "id": "00524d79-d615-4a90-814f-854ffda53792",
   "metadata": {},
   "source": [
    "![avtobus8.jpg](attachment:avtobus8.jpg)"
   ]
  },
  {
   "cell_type": "code",
   "execution_count": 8,
   "id": "a78b4c6e-5e42-4d1e-b5d2-450985e5b153",
   "metadata": {},
   "outputs": [],
   "source": [
    "# поле для решения задачи"
   ]
  },
  {
   "cell_type": "code",
   "execution_count": null,
   "id": "47e80d5e-88dd-4118-a6ec-0800d9488675",
   "metadata": {},
   "outputs": [],
   "source": []
  }
 ],
 "metadata": {
  "kernelspec": {
   "display_name": "Python 3 (ipykernel)",
   "language": "python",
   "name": "python3"
  },
  "language_info": {
   "codemirror_mode": {
    "name": "ipython",
    "version": 3
   },
   "file_extension": ".py",
   "mimetype": "text/x-python",
   "name": "python",
   "nbconvert_exporter": "python",
   "pygments_lexer": "ipython3",
   "version": "3.11.5"
  }
 },
 "nbformat": 4,
 "nbformat_minor": 5
}
