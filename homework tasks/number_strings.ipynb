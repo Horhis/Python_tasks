{
 "cells": [
  {
   "cell_type": "markdown",
   "metadata": {},
   "source": [
    "# Задача\n",
    "Вам дана нуклеотидная последовательность:\n",
    "- Дать возможность передавать пользователю последовательность в код\n",
    "- Определить, РНК это или ДНК\n",
    "- Посчитать средне количество нуклеотидов\n",
    "- Определить длинну последовательности\n",
    "- Посчитать встречаемость каждого нуклеотида\n",
    "- Посчитать GC состав\n",
    "- Получить прямую и обратную цепь, если последовательность это ДНК\n",
    "- Сделать красивый вывод насчитанной статистики для пользователя\n",
    "- \\* Сделать возможность выбора пользователем какую статистику ему считать"
   ]
  },
  {
   "cell_type": "code",
   "execution_count": 18,
   "metadata": {},
   "outputs": [
    {
     "name": "stdin",
     "output_type": "stream",
     "text": [
      " ATTACCGCACGAT\n"
     ]
    },
    {
     "name": "stdout",
     "output_type": "stream",
     "text": [
      "Это ДНК\n",
      "Количество T: 3\n",
      "Количество C: 4\n",
      "Количество A: 4\n",
      "Количество G: 2\n",
      "Длина последовательности: 13\n",
      "GC состав: 0.07692307692307693\n",
      "Комплементарная последовательность: TAATGGCGTGCTA\n",
      "Обратная последовательность: ATCGTGCGGTAAT\n"
     ]
    }
   ],
   "source": [
    "# Поле для решения (можно и больше одного поля использовать :))\n",
    "def c_n (n):\n",
    "    input('Введите нуклеотид(ы):',)\n",
    "    print('Количество', n, seq.count('C'))\n",
    "seq = input()\n",
    "dna = ''\n",
    "if 'U' in seq:\n",
    "    print ('Это РНК')\n",
    "    print('Количество U:', seq.count('T'))\n",
    "else:\n",
    "    print ('Это ДНК')\n",
    "    print('Количество T:', seq.count('T'))\n",
    "print('Количество C:', seq.count('C'))\n",
    "print('Количество A:', seq.count('A'))\n",
    "print('Количество G:', seq.count('G'))\n",
    "print('Длина последовательности:', len(seq))\n",
    "print('GC состав:', (seq.count('GC')/len(seq)))\n",
    "if 'T' in seq:\n",
    "    for i in seq:\n",
    "        if i == 'T':\n",
    "            dna += 'A'\n",
    "        elif i =='A':\n",
    "            dna += 'T'\n",
    "        elif i == 'C':\n",
    "            dna += 'G'\n",
    "        elif i == 'G':\n",
    "            dna += 'C'\n",
    "print('Комплементарная последовательность:', dna)\n",
    "print('Обратная последовательность:', dna[::-1])"
   ]
  },
  {
   "cell_type": "code",
   "execution_count": null,
   "metadata": {},
   "outputs": [],
   "source": []
  },
  {
   "cell_type": "code",
   "execution_count": null,
   "metadata": {},
   "outputs": [],
   "source": []
  }
 ],
 "metadata": {
  "kernelspec": {
   "display_name": "Python 3 (ipykernel)",
   "language": "python",
   "name": "python3"
  },
  "language_info": {
   "codemirror_mode": {
    "name": "ipython",
    "version": 3
   },
   "file_extension": ".py",
   "mimetype": "text/x-python",
   "name": "python",
   "nbconvert_exporter": "python",
   "pygments_lexer": "ipython3",
   "version": "3.9.7"
  }
 },
 "nbformat": 4,
 "nbformat_minor": 4
}
